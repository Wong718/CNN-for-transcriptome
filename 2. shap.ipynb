{
 "cells": [
  {
   "cell_type": "markdown",
   "metadata": {},
   "source": [
    "# Run SHAP\n",
    "\n",
    "This file is part of the Comparative analysis of tissue-specific genes in maize based on machine learning models: CNN performs technically best, LightGBM performs biologically sound project."
   ]
  },
  {
   "cell_type": "markdown",
   "metadata": {},
   "source": [
    "### Objective:\n",
    "> Load trained model and calculate SHAP values for test data set\n",
    "\n",
    "### Input files:\n",
    "1. *Filtered_Maize_expression.csv*\n",
    "3. *{data_type}_model_topology.json*\n",
    "4. *{data_type}_model_weights.hdf5*\n",
    "\n",
    "### Output files:\n",
    "1. *shap_scores_{data_type}.pkl* \n",
    "2. *{data_type}_ranks.pkl* \n",
    "3. *shap_genes.pkl* \n",
    "\n",
    "\n",
    "### Table of contents:\n",
    "1. [Import Modules](#1.-Import-Modules)  \n",
    "2. [Set static paths](#2.-Set-static-paths)  \n",
    "3. [Load files](#3.-Load-files)  \n",
    "    3.1 [Load RNAseq](#3.1-Load-RNAseq)  \n",
    "    3.2 [Load model](#3.2-Load-model)  \n",
    "4. [Run SHAP model](#4.-Run-SHAP-model)  \n",
    "    4.1 [Run inference](#4.1-Run-inference)  \n",
    "    4.2 [Fit SHAP](#4.2-Fit-SHAP)  \n",
    "    4.3 [Get SHAP values](#4.3-Get-SHAP-values)  \n",
    "    4.4 [Filter SHAP values](#4.4-Filter-SHAP-values)  \n",
    "    4.5 [Rank SHAP values](#4.5-Rank-SHAP-values)  \n",
    "    4.6 [Get unique genes](#4.6-Get-unique-genes)  \n",
    "5. [Save out SHAP scores](#5.-Save-out-SHAP-scores) "
   ]
  },
  {
   "cell_type": "markdown",
   "metadata": {},
   "source": [
    "## 1. Import Modules"
   ]
  },
  {
   "cell_type": "code",
   "execution_count": 1,
   "metadata": {},
   "outputs": [],
   "source": [
    "import shap\n",
    "import pickle\n",
    "import numpy as np\n",
    "import pandas as pd"
   ]
  },
  {
   "cell_type": "code",
   "execution_count": 2,
   "metadata": {},
   "outputs": [],
   "source": [
    "Maize_expression = pd.read_csv('2Filtered_Maize_expression.csv', index_col=0)"
   ]
  },
  {
   "cell_type": "code",
   "execution_count": 3,
   "metadata": {},
   "outputs": [
    {
     "data": {
      "text/html": [
       "<div>\n",
       "<style scoped>\n",
       "    .dataframe tbody tr th:only-of-type {\n",
       "        vertical-align: middle;\n",
       "    }\n",
       "\n",
       "    .dataframe tbody tr th {\n",
       "        vertical-align: top;\n",
       "    }\n",
       "\n",
       "    .dataframe thead th {\n",
       "        text-align: right;\n",
       "    }\n",
       "</style>\n",
       "<table border=\"1\" class=\"dataframe\">\n",
       "  <thead>\n",
       "    <tr style=\"text-align: right;\">\n",
       "      <th></th>\n",
       "      <th>Zm00001d032396</th>\n",
       "      <th>Zm00001d032398</th>\n",
       "      <th>Zm00001d032399</th>\n",
       "      <th>Zm00001d032400</th>\n",
       "      <th>Zm00001d032401</th>\n",
       "      <th>Zm00001d032402</th>\n",
       "      <th>Zm00001d032405</th>\n",
       "      <th>Zm00001d032407</th>\n",
       "      <th>Zm00001d032408</th>\n",
       "      <th>Zm00001d032409</th>\n",
       "      <th>...</th>\n",
       "      <th>Zm00001d045391</th>\n",
       "      <th>Zm00001d045361</th>\n",
       "      <th>Zm00001d045063</th>\n",
       "      <th>Zm00001d045054</th>\n",
       "      <th>Zm00001d045015</th>\n",
       "      <th>Zm00001d044966</th>\n",
       "      <th>Zm00001d046033</th>\n",
       "      <th>Zm00001d046016</th>\n",
       "      <th>Zm00001d047658</th>\n",
       "      <th>tissue</th>\n",
       "    </tr>\n",
       "    <tr>\n",
       "      <th>Unnamed: 0</th>\n",
       "      <th></th>\n",
       "      <th></th>\n",
       "      <th></th>\n",
       "      <th></th>\n",
       "      <th></th>\n",
       "      <th></th>\n",
       "      <th></th>\n",
       "      <th></th>\n",
       "      <th></th>\n",
       "      <th></th>\n",
       "      <th></th>\n",
       "      <th></th>\n",
       "      <th></th>\n",
       "      <th></th>\n",
       "      <th></th>\n",
       "      <th></th>\n",
       "      <th></th>\n",
       "      <th></th>\n",
       "      <th></th>\n",
       "      <th></th>\n",
       "      <th></th>\n",
       "    </tr>\n",
       "  </thead>\n",
       "  <tbody>\n",
       "    <tr>\n",
       "      <th>SRR1030974</th>\n",
       "      <td>8.157619</td>\n",
       "      <td>0.0</td>\n",
       "      <td>2.275141</td>\n",
       "      <td>52.605335</td>\n",
       "      <td>0.514260</td>\n",
       "      <td>58.711246</td>\n",
       "      <td>47.712910</td>\n",
       "      <td>14.526341</td>\n",
       "      <td>0.591568</td>\n",
       "      <td>7.529287</td>\n",
       "      <td>...</td>\n",
       "      <td>2.773152</td>\n",
       "      <td>5.296510</td>\n",
       "      <td>3.277321</td>\n",
       "      <td>0.298473</td>\n",
       "      <td>2.080474</td>\n",
       "      <td>5.034541</td>\n",
       "      <td>6.040693</td>\n",
       "      <td>42.783398</td>\n",
       "      <td>0.196235</td>\n",
       "      <td>root</td>\n",
       "    </tr>\n",
       "    <tr>\n",
       "      <th>SRR1030975</th>\n",
       "      <td>7.264478</td>\n",
       "      <td>0.0</td>\n",
       "      <td>2.779206</td>\n",
       "      <td>57.824116</td>\n",
       "      <td>0.559446</td>\n",
       "      <td>52.145851</td>\n",
       "      <td>82.328278</td>\n",
       "      <td>13.596546</td>\n",
       "      <td>0.364540</td>\n",
       "      <td>3.799316</td>\n",
       "      <td>...</td>\n",
       "      <td>6.606791</td>\n",
       "      <td>4.113046</td>\n",
       "      <td>1.851271</td>\n",
       "      <td>0.261718</td>\n",
       "      <td>2.769382</td>\n",
       "      <td>5.007706</td>\n",
       "      <td>5.638885</td>\n",
       "      <td>41.406376</td>\n",
       "      <td>0.000000</td>\n",
       "      <td>root</td>\n",
       "    </tr>\n",
       "    <tr>\n",
       "      <th>SRR1030976</th>\n",
       "      <td>8.328547</td>\n",
       "      <td>0.0</td>\n",
       "      <td>3.230831</td>\n",
       "      <td>42.953331</td>\n",
       "      <td>0.334829</td>\n",
       "      <td>49.397705</td>\n",
       "      <td>49.869648</td>\n",
       "      <td>8.037382</td>\n",
       "      <td>0.405711</td>\n",
       "      <td>6.947237</td>\n",
       "      <td>...</td>\n",
       "      <td>38.602425</td>\n",
       "      <td>2.604917</td>\n",
       "      <td>4.993490</td>\n",
       "      <td>1.731227</td>\n",
       "      <td>2.359700</td>\n",
       "      <td>2.586420</td>\n",
       "      <td>6.572925</td>\n",
       "      <td>51.332336</td>\n",
       "      <td>0.109857</td>\n",
       "      <td>root</td>\n",
       "    </tr>\n",
       "    <tr>\n",
       "      <th>SRR1030977</th>\n",
       "      <td>6.621617</td>\n",
       "      <td>0.0</td>\n",
       "      <td>2.838485</td>\n",
       "      <td>65.223167</td>\n",
       "      <td>1.483768</td>\n",
       "      <td>53.151070</td>\n",
       "      <td>75.148918</td>\n",
       "      <td>14.176978</td>\n",
       "      <td>0.790322</td>\n",
       "      <td>3.839634</td>\n",
       "      <td>...</td>\n",
       "      <td>4.471345</td>\n",
       "      <td>10.553447</td>\n",
       "      <td>1.957708</td>\n",
       "      <td>0.029638</td>\n",
       "      <td>2.777192</td>\n",
       "      <td>4.330374</td>\n",
       "      <td>5.348520</td>\n",
       "      <td>40.181637</td>\n",
       "      <td>0.022587</td>\n",
       "      <td>root</td>\n",
       "    </tr>\n",
       "    <tr>\n",
       "      <th>SRR1030978</th>\n",
       "      <td>8.687157</td>\n",
       "      <td>0.0</td>\n",
       "      <td>2.788881</td>\n",
       "      <td>52.362190</td>\n",
       "      <td>0.346632</td>\n",
       "      <td>46.062824</td>\n",
       "      <td>51.403378</td>\n",
       "      <td>8.094249</td>\n",
       "      <td>0.510341</td>\n",
       "      <td>6.406972</td>\n",
       "      <td>...</td>\n",
       "      <td>111.361015</td>\n",
       "      <td>3.941180</td>\n",
       "      <td>5.267010</td>\n",
       "      <td>1.550525</td>\n",
       "      <td>2.630184</td>\n",
       "      <td>3.084651</td>\n",
       "      <td>6.505562</td>\n",
       "      <td>50.188221</td>\n",
       "      <td>0.217275</td>\n",
       "      <td>root</td>\n",
       "    </tr>\n",
       "  </tbody>\n",
       "</table>\n",
       "<p>5 rows × 21112 columns</p>\n",
       "</div>"
      ],
      "text/plain": [
       "            Zm00001d032396  Zm00001d032398  Zm00001d032399  Zm00001d032400  \\\n",
       "Unnamed: 0                                                                   \n",
       "SRR1030974        8.157619             0.0        2.275141       52.605335   \n",
       "SRR1030975        7.264478             0.0        2.779206       57.824116   \n",
       "SRR1030976        8.328547             0.0        3.230831       42.953331   \n",
       "SRR1030977        6.621617             0.0        2.838485       65.223167   \n",
       "SRR1030978        8.687157             0.0        2.788881       52.362190   \n",
       "\n",
       "            Zm00001d032401  Zm00001d032402  Zm00001d032405  Zm00001d032407  \\\n",
       "Unnamed: 0                                                                   \n",
       "SRR1030974        0.514260       58.711246       47.712910       14.526341   \n",
       "SRR1030975        0.559446       52.145851       82.328278       13.596546   \n",
       "SRR1030976        0.334829       49.397705       49.869648        8.037382   \n",
       "SRR1030977        1.483768       53.151070       75.148918       14.176978   \n",
       "SRR1030978        0.346632       46.062824       51.403378        8.094249   \n",
       "\n",
       "            Zm00001d032408  Zm00001d032409  ...  Zm00001d045391  \\\n",
       "Unnamed: 0                                  ...                   \n",
       "SRR1030974        0.591568        7.529287  ...        2.773152   \n",
       "SRR1030975        0.364540        3.799316  ...        6.606791   \n",
       "SRR1030976        0.405711        6.947237  ...       38.602425   \n",
       "SRR1030977        0.790322        3.839634  ...        4.471345   \n",
       "SRR1030978        0.510341        6.406972  ...      111.361015   \n",
       "\n",
       "            Zm00001d045361  Zm00001d045063  Zm00001d045054  Zm00001d045015  \\\n",
       "Unnamed: 0                                                                   \n",
       "SRR1030974        5.296510        3.277321        0.298473        2.080474   \n",
       "SRR1030975        4.113046        1.851271        0.261718        2.769382   \n",
       "SRR1030976        2.604917        4.993490        1.731227        2.359700   \n",
       "SRR1030977       10.553447        1.957708        0.029638        2.777192   \n",
       "SRR1030978        3.941180        5.267010        1.550525        2.630184   \n",
       "\n",
       "            Zm00001d044966  Zm00001d046033  Zm00001d046016  Zm00001d047658  \\\n",
       "Unnamed: 0                                                                   \n",
       "SRR1030974        5.034541        6.040693       42.783398        0.196235   \n",
       "SRR1030975        5.007706        5.638885       41.406376        0.000000   \n",
       "SRR1030976        2.586420        6.572925       51.332336        0.109857   \n",
       "SRR1030977        4.330374        5.348520       40.181637        0.022587   \n",
       "SRR1030978        3.084651        6.505562       50.188221        0.217275   \n",
       "\n",
       "            tissue  \n",
       "Unnamed: 0          \n",
       "SRR1030974    root  \n",
       "SRR1030975    root  \n",
       "SRR1030976    root  \n",
       "SRR1030977    root  \n",
       "SRR1030978    root  \n",
       "\n",
       "[5 rows x 21112 columns]"
      ]
     },
     "execution_count": 3,
     "metadata": {},
     "output_type": "execute_result"
    }
   ],
   "source": [
    "Maize_expression.head()"
   ]
  },
  {
   "cell_type": "code",
   "execution_count": 4,
   "metadata": {},
   "outputs": [],
   "source": [
    "from sklearn.model_selection import train_test_split\n",
    "train, test = train_test_split(Maize_expression,test_size = 0.2)"
   ]
  },
  {
   "cell_type": "code",
   "execution_count": 5,
   "metadata": {},
   "outputs": [],
   "source": [
    "import os\n",
    "util_path = '../src'\n",
    "os.chdir(util_path)"
   ]
  },
  {
   "cell_type": "code",
   "execution_count": 6,
   "metadata": {},
   "outputs": [
    {
     "name": "stderr",
     "output_type": "stream",
     "text": [
      "Using TensorFlow backend.\n"
     ]
    },
    {
     "name": "stdout",
     "output_type": "stream",
     "text": [
      "2.3.0-tf\n"
     ]
    }
   ],
   "source": [
    "import keras\n",
    "import tensorflow\n",
    "print(tensorflow.keras.__version__)"
   ]
  },
  {
   "cell_type": "code",
   "execution_count": 7,
   "metadata": {},
   "outputs": [],
   "source": [
    "from tqdm import tqdm\n",
    "from tensorflow.keras import backend\n",
    "from tensorflow.keras.models import model_from_json\n",
    "\n",
    "from constant import map_dict, inv_map\n",
    "from modelling.cnn import run_inference, prepare_x_y \n",
    "from shap_utils import filter_shap, get_rank_df"
   ]
  },
  {
   "cell_type": "code",
   "execution_count": 9,
   "metadata": {},
   "outputs": [],
   "source": [
    "%load_ext autoreload\n",
    "%autoreload 2"
   ]
  },
  {
   "cell_type": "markdown",
   "metadata": {},
   "source": [
    "## 2. Set static paths"
   ]
  },
  {
   "cell_type": "code",
   "execution_count": 10,
   "metadata": {},
   "outputs": [],
   "source": [
    "data_type = \"imbalanced\"\n",
    "data_type1 = \"smote\"\n",
    "data_dir = \"../data/\""
   ]
  },
  {
   "cell_type": "code",
   "execution_count": 11,
   "metadata": {},
   "outputs": [],
   "source": [
    "input_dir = data_dir + \"processed/\"\n",
    "model_dir = f\"../models/\"\n",
    "shap_dir = data_dir + \"shap/\"\n",
    "gene_dir = data_dir + \"gene_lists/\""
   ]
  },
  {
   "cell_type": "markdown",
   "metadata": {},
   "source": [
    "## 3. Load files"
   ]
  },
  {
   "cell_type": "markdown",
   "metadata": {},
   "source": [
    "#### 3.1 Load RNAseq"
   ]
  },
  {
   "cell_type": "code",
   "execution_count": 12,
   "metadata": {},
   "outputs": [],
   "source": [
    "ref_data = train\n",
    "test_data = test"
   ]
  },
  {
   "cell_type": "markdown",
   "metadata": {},
   "source": [
    "#### 3.2 Load model"
   ]
  },
  {
   "cell_type": "code",
   "execution_count": 15,
   "metadata": {
    "scrolled": true
   },
   "outputs": [
    {
     "name": "stdout",
     "output_type": "stream",
     "text": [
      "2.2.0\n",
      "True\n",
      "[PhysicalDevice(name='/physical_device:GPU:0', device_type='GPU')]\n"
     ]
    },
    {
     "name": "stderr",
     "output_type": "stream",
     "text": [
      "2022-10-17 15:10:30.446272: I tensorflow/stream_executor/platform/default/dso_loader.cc:44] Successfully opened dynamic library libcuda.so.1\n",
      "2022-10-17 15:10:30.457260: I tensorflow/core/common_runtime/gpu/gpu_device.cc:1561] Found device 0 with properties: \n",
      "pciBusID: 0000:05:00.0 name: NVIDIA TITAN Xp computeCapability: 6.1\n",
      "coreClock: 1.582GHz coreCount: 30 deviceMemorySize: 11.91GiB deviceMemoryBandwidth: 510.07GiB/s\n",
      "2022-10-17 15:10:30.457502: I tensorflow/stream_executor/platform/default/dso_loader.cc:44] Successfully opened dynamic library libcudart.so.10.1\n",
      "2022-10-17 15:10:30.459565: I tensorflow/stream_executor/platform/default/dso_loader.cc:44] Successfully opened dynamic library libcublas.so.10\n",
      "2022-10-17 15:10:30.461196: I tensorflow/stream_executor/platform/default/dso_loader.cc:44] Successfully opened dynamic library libcufft.so.10\n",
      "2022-10-17 15:10:30.461502: I tensorflow/stream_executor/platform/default/dso_loader.cc:44] Successfully opened dynamic library libcurand.so.10\n",
      "2022-10-17 15:10:30.463698: I tensorflow/stream_executor/platform/default/dso_loader.cc:44] Successfully opened dynamic library libcusolver.so.10\n",
      "2022-10-17 15:10:30.464629: I tensorflow/stream_executor/platform/default/dso_loader.cc:44] Successfully opened dynamic library libcusparse.so.10\n",
      "2022-10-17 15:10:30.468889: I tensorflow/stream_executor/platform/default/dso_loader.cc:44] Successfully opened dynamic library libcudnn.so.7\n",
      "2022-10-17 15:10:30.470803: I tensorflow/core/common_runtime/gpu/gpu_device.cc:1703] Adding visible gpu devices: 0\n"
     ]
    }
   ],
   "source": [
    "import tensorflow as tf\n",
    "print(tf.__version__)\n",
    "print(tf.test.is_built_with_cuda())\n",
    "print(tf.config.list_physical_devices('GPU'))"
   ]
  },
  {
   "cell_type": "code",
   "execution_count": 16,
   "metadata": {
    "scrolled": true
   },
   "outputs": [
    {
     "name": "stderr",
     "output_type": "stream",
     "text": [
      "2022-10-17 15:10:30.654961: I tensorflow/core/platform/cpu_feature_guard.cc:143] Your CPU supports instructions that this TensorFlow binary was not compiled to use: AVX2 FMA\n",
      "2022-10-17 15:10:30.665882: I tensorflow/core/platform/profile_utils/cpu_utils.cc:102] CPU Frequency: 2399995000 Hz\n",
      "2022-10-17 15:10:30.669621: I tensorflow/compiler/xla/service/service.cc:168] XLA service 0x7fc2d8000b60 initialized for platform Host (this does not guarantee that XLA will be used). Devices:\n",
      "2022-10-17 15:10:30.669650: I tensorflow/compiler/xla/service/service.cc:176]   StreamExecutor device (0): Host, Default Version\n",
      "2022-10-17 15:10:31.006281: I tensorflow/compiler/xla/service/service.cc:168] XLA service 0x5617904ee2e0 initialized for platform CUDA (this does not guarantee that XLA will be used). Devices:\n",
      "2022-10-17 15:10:31.006319: I tensorflow/compiler/xla/service/service.cc:176]   StreamExecutor device (0): NVIDIA TITAN Xp, Compute Capability 6.1\n",
      "2022-10-17 15:10:31.007655: I tensorflow/core/common_runtime/gpu/gpu_device.cc:1561] Found device 0 with properties: \n",
      "pciBusID: 0000:05:00.0 name: NVIDIA TITAN Xp computeCapability: 6.1\n",
      "coreClock: 1.582GHz coreCount: 30 deviceMemorySize: 11.91GiB deviceMemoryBandwidth: 510.07GiB/s\n",
      "2022-10-17 15:10:31.007755: I tensorflow/stream_executor/platform/default/dso_loader.cc:44] Successfully opened dynamic library libcudart.so.10.1\n",
      "2022-10-17 15:10:31.007804: I tensorflow/stream_executor/platform/default/dso_loader.cc:44] Successfully opened dynamic library libcublas.so.10\n",
      "2022-10-17 15:10:31.007847: I tensorflow/stream_executor/platform/default/dso_loader.cc:44] Successfully opened dynamic library libcufft.so.10\n",
      "2022-10-17 15:10:31.007890: I tensorflow/stream_executor/platform/default/dso_loader.cc:44] Successfully opened dynamic library libcurand.so.10\n",
      "2022-10-17 15:10:31.007933: I tensorflow/stream_executor/platform/default/dso_loader.cc:44] Successfully opened dynamic library libcusolver.so.10\n",
      "2022-10-17 15:10:31.007975: I tensorflow/stream_executor/platform/default/dso_loader.cc:44] Successfully opened dynamic library libcusparse.so.10\n",
      "2022-10-17 15:10:31.008019: I tensorflow/stream_executor/platform/default/dso_loader.cc:44] Successfully opened dynamic library libcudnn.so.7\n",
      "2022-10-17 15:10:31.024140: I tensorflow/core/common_runtime/gpu/gpu_device.cc:1703] Adding visible gpu devices: 0\n",
      "2022-10-17 15:10:31.024244: I tensorflow/stream_executor/platform/default/dso_loader.cc:44] Successfully opened dynamic library libcudart.so.10.1\n",
      "2022-10-17 15:10:31.025167: I tensorflow/core/common_runtime/gpu/gpu_device.cc:1102] Device interconnect StreamExecutor with strength 1 edge matrix:\n",
      "2022-10-17 15:10:31.025181: I tensorflow/core/common_runtime/gpu/gpu_device.cc:1108]      0 \n",
      "2022-10-17 15:10:31.025188: I tensorflow/core/common_runtime/gpu/gpu_device.cc:1121] 0:   N \n",
      "2022-10-17 15:10:31.026778: I tensorflow/core/common_runtime/gpu/gpu_device.cc:1247] Created TensorFlow device (/job:localhost/replica:0/task:0/device:GPU:0 with 11326 MB memory) -> physical GPU (device: 0, name: NVIDIA TITAN Xp, pci bus id: 0000:05:00.0, compute capability: 6.1)\n"
     ]
    }
   ],
   "source": [
    "# Load model beatifully\n",
    "model_json_path = model_dir+f\"{data_type}_model_topology.json\"\n",
    "model = model_from_json(\n",
    "    open(model_json_path, \"r\").read()\n",
    ")\n",
    "\n",
    "# load weights into new model\n",
    "model_weights_path = model_dir+f\"{data_type}_model_weights.hdf5\"\n",
    "model.load_weights(model_weights_path)"
   ]
  },
  {
   "cell_type": "markdown",
   "metadata": {},
   "source": [
    "## 4. Run SHAP model"
   ]
  },
  {
   "cell_type": "markdown",
   "metadata": {},
   "source": [
    "#### 4.1 Run inference"
   ]
  },
  {
   "cell_type": "code",
   "execution_count": 17,
   "metadata": {
    "scrolled": true
   },
   "outputs": [
    {
     "name": "stdout",
     "output_type": "stream",
     "text": [
      "WARNING:tensorflow:From /root/GradientExplainer-RNAseq-master_wzj/notebooks/modelling/cnn.py:72: Sequential.predict_classes (from tensorflow.python.keras.engine.sequential) is deprecated and will be removed after 2021-01-01.\n",
      "Instructions for updating:\n",
      "Please use instead:* `np.argmax(model.predict(x), axis=-1)`,   if your model does multi-class classification   (e.g. if it uses a `softmax` last-layer activation).* `(model.predict(x) > 0.5).astype(\"int32\")`,   if your model does binary classification   (e.g. if it uses a `sigmoid` last-layer activation).\n"
     ]
    },
    {
     "name": "stderr",
     "output_type": "stream",
     "text": [
      "2022-10-17 15:10:33.687315: I tensorflow/stream_executor/platform/default/dso_loader.cc:44] Successfully opened dynamic library libcublas.so.10\n",
      "2022-10-17 15:10:33.879073: I tensorflow/stream_executor/platform/default/dso_loader.cc:44] Successfully opened dynamic library libcudnn.so.7\n"
     ]
    }
   ],
   "source": [
    "y_pred = run_inference(test_data, model)"
   ]
  },
  {
   "cell_type": "code",
   "execution_count": 18,
   "metadata": {},
   "outputs": [],
   "source": [
    "X_ref, _ = prepare_x_y(ref_data, 'tissue')\n",
    "X_test, _ = prepare_x_y(test_data,'tissue')"
   ]
  },
  {
   "cell_type": "markdown",
   "metadata": {},
   "source": [
    "#### 4.2 Fit SHAP"
   ]
  },
  {
   "cell_type": "code",
   "execution_count": 19,
   "metadata": {},
   "outputs": [],
   "source": [
    "explainer = shap.GradientExplainer(model, X_ref)"
   ]
  },
  {
   "cell_type": "markdown",
   "metadata": {},
   "source": [
    "#### 4.3 Get SHAP values"
   ]
  },
  {
   "cell_type": "code",
   "execution_count": 20,
   "metadata": {},
   "outputs": [
    {
     "name": "stderr",
     "output_type": "stream",
     "text": [
      "100%|██████████| 191/191 [19:18<00:00,  6.06s/it]\n"
     ]
    }
   ],
   "source": [
    "out_list = []\n",
    "num_samples = np.shape(X_test)[0]\n",
    "for sample in tqdm(range(num_samples)):\n",
    "    # shap\n",
    "    shap_values = explainer.shap_values(X_test[sample : sample + 1])\n",
    "    out_list.append(shap_values)\n",
    "shap_arr = np.squeeze(np.array(out_list))"
   ]
  },
  {
   "cell_type": "markdown",
   "metadata": {
    "tags": []
   },
   "source": [
    "#### 4.4 Filter SHAP values"
   ]
  },
  {
   "cell_type": "code",
   "execution_count": 21,
   "metadata": {},
   "outputs": [
    {
     "data": {
      "text/html": [
       "<div>\n",
       "<style scoped>\n",
       "    .dataframe tbody tr th:only-of-type {\n",
       "        vertical-align: middle;\n",
       "    }\n",
       "\n",
       "    .dataframe tbody tr th {\n",
       "        vertical-align: top;\n",
       "    }\n",
       "\n",
       "    .dataframe thead th {\n",
       "        text-align: right;\n",
       "    }\n",
       "</style>\n",
       "<table border=\"1\" class=\"dataframe\">\n",
       "  <thead>\n",
       "    <tr style=\"text-align: right;\">\n",
       "      <th></th>\n",
       "      <th>Zm00001d032396</th>\n",
       "      <th>Zm00001d032398</th>\n",
       "      <th>Zm00001d032399</th>\n",
       "      <th>Zm00001d032400</th>\n",
       "      <th>Zm00001d032401</th>\n",
       "      <th>Zm00001d032402</th>\n",
       "      <th>Zm00001d032405</th>\n",
       "      <th>Zm00001d032407</th>\n",
       "      <th>Zm00001d032408</th>\n",
       "      <th>Zm00001d032409</th>\n",
       "      <th>...</th>\n",
       "      <th>Zm00001d045391</th>\n",
       "      <th>Zm00001d045361</th>\n",
       "      <th>Zm00001d045063</th>\n",
       "      <th>Zm00001d045054</th>\n",
       "      <th>Zm00001d045015</th>\n",
       "      <th>Zm00001d044966</th>\n",
       "      <th>Zm00001d046033</th>\n",
       "      <th>Zm00001d046016</th>\n",
       "      <th>Zm00001d047658</th>\n",
       "      <th>tissue</th>\n",
       "    </tr>\n",
       "    <tr>\n",
       "      <th>Unnamed: 0</th>\n",
       "      <th></th>\n",
       "      <th></th>\n",
       "      <th></th>\n",
       "      <th></th>\n",
       "      <th></th>\n",
       "      <th></th>\n",
       "      <th></th>\n",
       "      <th></th>\n",
       "      <th></th>\n",
       "      <th></th>\n",
       "      <th></th>\n",
       "      <th></th>\n",
       "      <th></th>\n",
       "      <th></th>\n",
       "      <th></th>\n",
       "      <th></th>\n",
       "      <th></th>\n",
       "      <th></th>\n",
       "      <th></th>\n",
       "      <th></th>\n",
       "      <th></th>\n",
       "    </tr>\n",
       "  </thead>\n",
       "  <tbody>\n",
       "    <tr>\n",
       "      <th>SRR13178458</th>\n",
       "      <td>1.801932</td>\n",
       "      <td>0.000000</td>\n",
       "      <td>0.000000</td>\n",
       "      <td>0.479180</td>\n",
       "      <td>0.000000</td>\n",
       "      <td>8.661842</td>\n",
       "      <td>18.073269</td>\n",
       "      <td>1.567577</td>\n",
       "      <td>0.000000</td>\n",
       "      <td>0.188149</td>\n",
       "      <td>...</td>\n",
       "      <td>0.718594</td>\n",
       "      <td>0.000000</td>\n",
       "      <td>1.703259</td>\n",
       "      <td>0.000000</td>\n",
       "      <td>0.000000</td>\n",
       "      <td>0.000000</td>\n",
       "      <td>0.796752</td>\n",
       "      <td>10.920719</td>\n",
       "      <td>0.197977</td>\n",
       "      <td>root</td>\n",
       "    </tr>\n",
       "    <tr>\n",
       "      <th>SRR822414</th>\n",
       "      <td>6.580391</td>\n",
       "      <td>0.000000</td>\n",
       "      <td>3.269700</td>\n",
       "      <td>76.652313</td>\n",
       "      <td>1.897456</td>\n",
       "      <td>27.177441</td>\n",
       "      <td>85.541176</td>\n",
       "      <td>11.323411</td>\n",
       "      <td>3.556690</td>\n",
       "      <td>5.307981</td>\n",
       "      <td>...</td>\n",
       "      <td>0.070374</td>\n",
       "      <td>3.953855</td>\n",
       "      <td>38.321037</td>\n",
       "      <td>0.229835</td>\n",
       "      <td>1.488381</td>\n",
       "      <td>2.423226</td>\n",
       "      <td>9.357058</td>\n",
       "      <td>60.576412</td>\n",
       "      <td>258.383057</td>\n",
       "      <td>root</td>\n",
       "    </tr>\n",
       "    <tr>\n",
       "      <th>SRR7469522</th>\n",
       "      <td>1.039182</td>\n",
       "      <td>0.000000</td>\n",
       "      <td>4.224452</td>\n",
       "      <td>8.362391</td>\n",
       "      <td>3.674899</td>\n",
       "      <td>11.449785</td>\n",
       "      <td>0.281489</td>\n",
       "      <td>1.417132</td>\n",
       "      <td>0.179082</td>\n",
       "      <td>0.623996</td>\n",
       "      <td>...</td>\n",
       "      <td>2.485956</td>\n",
       "      <td>14.502257</td>\n",
       "      <td>0.000000</td>\n",
       "      <td>0.000000</td>\n",
       "      <td>1.570850</td>\n",
       "      <td>2.229773</td>\n",
       "      <td>1.272122</td>\n",
       "      <td>4.742080</td>\n",
       "      <td>0.000000</td>\n",
       "      <td>ligule</td>\n",
       "    </tr>\n",
       "    <tr>\n",
       "      <th>SRR13332803</th>\n",
       "      <td>1.347539</td>\n",
       "      <td>0.000000</td>\n",
       "      <td>1.883695</td>\n",
       "      <td>1.121357</td>\n",
       "      <td>0.000000</td>\n",
       "      <td>21.228218</td>\n",
       "      <td>0.427153</td>\n",
       "      <td>0.145446</td>\n",
       "      <td>0.218195</td>\n",
       "      <td>0.681272</td>\n",
       "      <td>...</td>\n",
       "      <td>0.000000</td>\n",
       "      <td>2.066655</td>\n",
       "      <td>0.430612</td>\n",
       "      <td>0.000000</td>\n",
       "      <td>0.000000</td>\n",
       "      <td>0.000000</td>\n",
       "      <td>3.174280</td>\n",
       "      <td>17.252279</td>\n",
       "      <td>0.000000</td>\n",
       "      <td>leaf</td>\n",
       "    </tr>\n",
       "    <tr>\n",
       "      <th>SRR7469486</th>\n",
       "      <td>6.466619</td>\n",
       "      <td>0.000000</td>\n",
       "      <td>24.984127</td>\n",
       "      <td>53.351982</td>\n",
       "      <td>0.363322</td>\n",
       "      <td>14.241838</td>\n",
       "      <td>17.455805</td>\n",
       "      <td>3.248281</td>\n",
       "      <td>0.000000</td>\n",
       "      <td>0.000000</td>\n",
       "      <td>...</td>\n",
       "      <td>2.106160</td>\n",
       "      <td>3.927475</td>\n",
       "      <td>0.000000</td>\n",
       "      <td>0.000000</td>\n",
       "      <td>0.261801</td>\n",
       "      <td>0.141121</td>\n",
       "      <td>2.589484</td>\n",
       "      <td>10.738862</td>\n",
       "      <td>0.000000</td>\n",
       "      <td>blade</td>\n",
       "    </tr>\n",
       "    <tr>\n",
       "      <th>...</th>\n",
       "      <td>...</td>\n",
       "      <td>...</td>\n",
       "      <td>...</td>\n",
       "      <td>...</td>\n",
       "      <td>...</td>\n",
       "      <td>...</td>\n",
       "      <td>...</td>\n",
       "      <td>...</td>\n",
       "      <td>...</td>\n",
       "      <td>...</td>\n",
       "      <td>...</td>\n",
       "      <td>...</td>\n",
       "      <td>...</td>\n",
       "      <td>...</td>\n",
       "      <td>...</td>\n",
       "      <td>...</td>\n",
       "      <td>...</td>\n",
       "      <td>...</td>\n",
       "      <td>...</td>\n",
       "      <td>...</td>\n",
       "      <td>...</td>\n",
       "    </tr>\n",
       "    <tr>\n",
       "      <th>SRR5888351</th>\n",
       "      <td>8.538136</td>\n",
       "      <td>0.000000</td>\n",
       "      <td>15.310797</td>\n",
       "      <td>30.417059</td>\n",
       "      <td>0.000000</td>\n",
       "      <td>32.389580</td>\n",
       "      <td>0.000000</td>\n",
       "      <td>0.000000</td>\n",
       "      <td>0.000000</td>\n",
       "      <td>2.470715</td>\n",
       "      <td>...</td>\n",
       "      <td>0.000000</td>\n",
       "      <td>3.737626</td>\n",
       "      <td>0.422236</td>\n",
       "      <td>3.289751</td>\n",
       "      <td>4.098902</td>\n",
       "      <td>0.000000</td>\n",
       "      <td>16.873011</td>\n",
       "      <td>17.707413</td>\n",
       "      <td>0.000000</td>\n",
       "      <td>leaf</td>\n",
       "    </tr>\n",
       "    <tr>\n",
       "      <th>SRR5888341</th>\n",
       "      <td>9.765476</td>\n",
       "      <td>0.000000</td>\n",
       "      <td>33.508163</td>\n",
       "      <td>16.595776</td>\n",
       "      <td>0.000000</td>\n",
       "      <td>25.093435</td>\n",
       "      <td>0.000000</td>\n",
       "      <td>0.093267</td>\n",
       "      <td>0.064208</td>\n",
       "      <td>0.361834</td>\n",
       "      <td>...</td>\n",
       "      <td>0.000000</td>\n",
       "      <td>0.313144</td>\n",
       "      <td>0.248523</td>\n",
       "      <td>68.255211</td>\n",
       "      <td>8.469850</td>\n",
       "      <td>0.000000</td>\n",
       "      <td>11.108725</td>\n",
       "      <td>12.237291</td>\n",
       "      <td>0.040230</td>\n",
       "      <td>leaf</td>\n",
       "    </tr>\n",
       "    <tr>\n",
       "      <th>SRR13014432</th>\n",
       "      <td>4.549399</td>\n",
       "      <td>0.011066</td>\n",
       "      <td>2.716624</td>\n",
       "      <td>106.579002</td>\n",
       "      <td>0.076796</td>\n",
       "      <td>22.229654</td>\n",
       "      <td>0.000000</td>\n",
       "      <td>0.175876</td>\n",
       "      <td>0.276533</td>\n",
       "      <td>4.221416</td>\n",
       "      <td>...</td>\n",
       "      <td>0.000000</td>\n",
       "      <td>20.299637</td>\n",
       "      <td>9.755845</td>\n",
       "      <td>0.998170</td>\n",
       "      <td>5.055567</td>\n",
       "      <td>0.116467</td>\n",
       "      <td>4.353043</td>\n",
       "      <td>38.421211</td>\n",
       "      <td>0.000000</td>\n",
       "      <td>leaf</td>\n",
       "    </tr>\n",
       "    <tr>\n",
       "      <th>SRR5888350</th>\n",
       "      <td>4.484699</td>\n",
       "      <td>0.000000</td>\n",
       "      <td>5.099119</td>\n",
       "      <td>20.036121</td>\n",
       "      <td>0.000000</td>\n",
       "      <td>29.210011</td>\n",
       "      <td>0.000000</td>\n",
       "      <td>0.153632</td>\n",
       "      <td>0.000000</td>\n",
       "      <td>5.019013</td>\n",
       "      <td>...</td>\n",
       "      <td>0.000000</td>\n",
       "      <td>0.478654</td>\n",
       "      <td>0.554402</td>\n",
       "      <td>12.234879</td>\n",
       "      <td>0.921146</td>\n",
       "      <td>0.000000</td>\n",
       "      <td>8.714231</td>\n",
       "      <td>11.725357</td>\n",
       "      <td>0.000000</td>\n",
       "      <td>leaf</td>\n",
       "    </tr>\n",
       "    <tr>\n",
       "      <th>SRR13019231</th>\n",
       "      <td>13.584836</td>\n",
       "      <td>0.027436</td>\n",
       "      <td>7.610257</td>\n",
       "      <td>83.617699</td>\n",
       "      <td>0.123020</td>\n",
       "      <td>11.639874</td>\n",
       "      <td>6.944691</td>\n",
       "      <td>6.038970</td>\n",
       "      <td>0.129443</td>\n",
       "      <td>0.579031</td>\n",
       "      <td>...</td>\n",
       "      <td>0.043395</td>\n",
       "      <td>6.069293</td>\n",
       "      <td>0.079349</td>\n",
       "      <td>0.073223</td>\n",
       "      <td>0.231178</td>\n",
       "      <td>0.211487</td>\n",
       "      <td>10.168026</td>\n",
       "      <td>31.496281</td>\n",
       "      <td>1.393148</td>\n",
       "      <td>tassel</td>\n",
       "    </tr>\n",
       "  </tbody>\n",
       "</table>\n",
       "<p>191 rows × 21112 columns</p>\n",
       "</div>"
      ],
      "text/plain": [
       "             Zm00001d032396  Zm00001d032398  Zm00001d032399  Zm00001d032400  \\\n",
       "Unnamed: 0                                                                    \n",
       "SRR13178458        1.801932        0.000000        0.000000        0.479180   \n",
       "SRR822414          6.580391        0.000000        3.269700       76.652313   \n",
       "SRR7469522         1.039182        0.000000        4.224452        8.362391   \n",
       "SRR13332803        1.347539        0.000000        1.883695        1.121357   \n",
       "SRR7469486         6.466619        0.000000       24.984127       53.351982   \n",
       "...                     ...             ...             ...             ...   \n",
       "SRR5888351         8.538136        0.000000       15.310797       30.417059   \n",
       "SRR5888341         9.765476        0.000000       33.508163       16.595776   \n",
       "SRR13014432        4.549399        0.011066        2.716624      106.579002   \n",
       "SRR5888350         4.484699        0.000000        5.099119       20.036121   \n",
       "SRR13019231       13.584836        0.027436        7.610257       83.617699   \n",
       "\n",
       "             Zm00001d032401  Zm00001d032402  Zm00001d032405  Zm00001d032407  \\\n",
       "Unnamed: 0                                                                    \n",
       "SRR13178458        0.000000        8.661842       18.073269        1.567577   \n",
       "SRR822414          1.897456       27.177441       85.541176       11.323411   \n",
       "SRR7469522         3.674899       11.449785        0.281489        1.417132   \n",
       "SRR13332803        0.000000       21.228218        0.427153        0.145446   \n",
       "SRR7469486         0.363322       14.241838       17.455805        3.248281   \n",
       "...                     ...             ...             ...             ...   \n",
       "SRR5888351         0.000000       32.389580        0.000000        0.000000   \n",
       "SRR5888341         0.000000       25.093435        0.000000        0.093267   \n",
       "SRR13014432        0.076796       22.229654        0.000000        0.175876   \n",
       "SRR5888350         0.000000       29.210011        0.000000        0.153632   \n",
       "SRR13019231        0.123020       11.639874        6.944691        6.038970   \n",
       "\n",
       "             Zm00001d032408  Zm00001d032409  ...  Zm00001d045391  \\\n",
       "Unnamed: 0                                   ...                   \n",
       "SRR13178458        0.000000        0.188149  ...        0.718594   \n",
       "SRR822414          3.556690        5.307981  ...        0.070374   \n",
       "SRR7469522         0.179082        0.623996  ...        2.485956   \n",
       "SRR13332803        0.218195        0.681272  ...        0.000000   \n",
       "SRR7469486         0.000000        0.000000  ...        2.106160   \n",
       "...                     ...             ...  ...             ...   \n",
       "SRR5888351         0.000000        2.470715  ...        0.000000   \n",
       "SRR5888341         0.064208        0.361834  ...        0.000000   \n",
       "SRR13014432        0.276533        4.221416  ...        0.000000   \n",
       "SRR5888350         0.000000        5.019013  ...        0.000000   \n",
       "SRR13019231        0.129443        0.579031  ...        0.043395   \n",
       "\n",
       "             Zm00001d045361  Zm00001d045063  Zm00001d045054  Zm00001d045015  \\\n",
       "Unnamed: 0                                                                    \n",
       "SRR13178458        0.000000        1.703259        0.000000        0.000000   \n",
       "SRR822414          3.953855       38.321037        0.229835        1.488381   \n",
       "SRR7469522        14.502257        0.000000        0.000000        1.570850   \n",
       "SRR13332803        2.066655        0.430612        0.000000        0.000000   \n",
       "SRR7469486         3.927475        0.000000        0.000000        0.261801   \n",
       "...                     ...             ...             ...             ...   \n",
       "SRR5888351         3.737626        0.422236        3.289751        4.098902   \n",
       "SRR5888341         0.313144        0.248523       68.255211        8.469850   \n",
       "SRR13014432       20.299637        9.755845        0.998170        5.055567   \n",
       "SRR5888350         0.478654        0.554402       12.234879        0.921146   \n",
       "SRR13019231        6.069293        0.079349        0.073223        0.231178   \n",
       "\n",
       "             Zm00001d044966  Zm00001d046033  Zm00001d046016  Zm00001d047658  \\\n",
       "Unnamed: 0                                                                    \n",
       "SRR13178458        0.000000        0.796752       10.920719        0.197977   \n",
       "SRR822414          2.423226        9.357058       60.576412      258.383057   \n",
       "SRR7469522         2.229773        1.272122        4.742080        0.000000   \n",
       "SRR13332803        0.000000        3.174280       17.252279        0.000000   \n",
       "SRR7469486         0.141121        2.589484       10.738862        0.000000   \n",
       "...                     ...             ...             ...             ...   \n",
       "SRR5888351         0.000000       16.873011       17.707413        0.000000   \n",
       "SRR5888341         0.000000       11.108725       12.237291        0.040230   \n",
       "SRR13014432        0.116467        4.353043       38.421211        0.000000   \n",
       "SRR5888350         0.000000        8.714231       11.725357        0.000000   \n",
       "SRR13019231        0.211487       10.168026       31.496281        1.393148   \n",
       "\n",
       "             tissue  \n",
       "Unnamed: 0           \n",
       "SRR13178458    root  \n",
       "SRR822414      root  \n",
       "SRR7469522   ligule  \n",
       "SRR13332803    leaf  \n",
       "SRR7469486    blade  \n",
       "...             ...  \n",
       "SRR5888351     leaf  \n",
       "SRR5888341     leaf  \n",
       "SRR13014432    leaf  \n",
       "SRR5888350     leaf  \n",
       "SRR13019231  tassel  \n",
       "\n",
       "[191 rows x 21112 columns]"
      ]
     },
     "execution_count": 21,
     "metadata": {},
     "output_type": "execute_result"
    }
   ],
   "source": [
    "test_data"
   ]
  },
  {
   "cell_type": "code",
   "execution_count": 22,
   "metadata": {},
   "outputs": [
    {
     "name": "stderr",
     "output_type": "stream",
     "text": [
      "100%|██████████| 191/191 [00:00<00:00, 466.04it/s]\n",
      "DataFrame is highly fragmented.  This is usually the result of calling `frame.insert` many times, which has poor performance.  Consider joining all columns at once using pd.concat(axis=1) instead. To get a de-fragmented frame, use `newframe = frame.copy()`\n"
     ]
    }
   ],
   "source": [
    "shap_df = filter_shap(test_data, shap_arr, y_pred)"
   ]
  },
  {
   "cell_type": "code",
   "execution_count": 23,
   "metadata": {},
   "outputs": [],
   "source": [
    "backend.clear_session()"
   ]
  },
  {
   "cell_type": "markdown",
   "metadata": {},
   "source": [
    "#### 4.5 Rank SHAP values"
   ]
  },
  {
   "cell_type": "code",
   "execution_count": 24,
   "metadata": {},
   "outputs": [],
   "source": [
    "rank_df = get_rank_df(shap_df)"
   ]
  },
  {
   "cell_type": "markdown",
   "metadata": {},
   "source": [
    "#### 4.6 Get unique genes"
   ]
  },
  {
   "cell_type": "code",
   "execution_count": 25,
   "metadata": {},
   "outputs": [
    {
     "name": "stderr",
     "output_type": "stream",
     "text": [
      "2485it [00:17, 144.83it/s]"
     ]
    },
    {
     "name": "stdout",
     "output_type": "stream",
     "text": [
      "2485\n"
     ]
    },
    {
     "name": "stderr",
     "output_type": "stream",
     "text": [
      "\n"
     ]
    }
   ],
   "source": [
    "gene_list = []\n",
    "for index, row in tqdm(rank_df.iterrows()):\n",
    "    gene_list.extend(list(row.values))\n",
    "    val = len(np.unique(gene_list))/len(gene_list)\n",
    "    if val <= 0.5:\n",
    "        print(index)\n",
    "        break"
   ]
  },
  {
   "cell_type": "code",
   "execution_count": 26,
   "metadata": {},
   "outputs": [],
   "source": [
    "shap_genes = np.unique(rank_df[:index].values.flatten())"
   ]
  },
  {
   "cell_type": "markdown",
   "metadata": {},
   "source": [
    "## 5. Save out SHAP scores"
   ]
  },
  {
   "cell_type": "code",
   "execution_count": 27,
   "metadata": {},
   "outputs": [],
   "source": [
    "output_file = shap_dir + f\"shap_scores_{data_type1}.pkl\"\n",
    "\n",
    "pickle.dump(shap_df, open(str(output_file), \"wb\"))"
   ]
  },
  {
   "cell_type": "code",
   "execution_count": 28,
   "metadata": {},
   "outputs": [],
   "source": [
    "output_file = shap_dir + f\"{data_type1}_ranks.pkl\"\n",
    "\n",
    "pickle.dump(rank_df, open(str(output_file), \"wb\"))"
   ]
  },
  {
   "cell_type": "code",
   "execution_count": 29,
   "metadata": {},
   "outputs": [],
   "source": [
    "output_file = gene_dir + f\"shap_genes.pkl\"\n",
    "\n",
    "pickle.dump(shap_genes, open(str(output_file), \"wb\"))"
   ]
  },
  {
   "cell_type": "code",
   "execution_count": null,
   "metadata": {},
   "outputs": [],
   "source": []
  }
 ],
 "metadata": {
  "kernelspec": {
   "display_name": "Python 3 (ipykernel)",
   "language": "python",
   "name": "python3"
  },
  "language_info": {
   "codemirror_mode": {
    "name": "ipython",
    "version": 3
   },
   "file_extension": ".py",
   "mimetype": "text/x-python",
   "name": "python",
   "nbconvert_exporter": "python",
   "pygments_lexer": "ipython3",
   "version": "3.9.13"
  }
 },
 "nbformat": 4,
 "nbformat_minor": 4
}
