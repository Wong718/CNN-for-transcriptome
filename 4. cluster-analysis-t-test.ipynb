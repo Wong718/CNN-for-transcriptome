{
 "cells": [
  {
   "cell_type": "markdown",
   "metadata": {},
   "source": [
    "# Cluster analysis t-test\n",
    "\n",
    "This file is part of the Comparative analysis of tissue-specific genes in maize based on machine learning models: CNN performs technically best, LightGBM performs biologically sound project."
   ]
  },
  {
   "cell_type": "markdown",
   "metadata": {},
   "source": [
    "### Input files:\n",
    "1. *Filtered_Maize_expression.csv*\n",
    "2. *shap_kmeans.pkl*\n",
    "\n",
    "### Output files:\n",
    "1. *Fig_t.svg*\n",
    "2. *rand_gauss.pkl*\n",
    " \n",
    "### Table of contents:\n",
    "1. [Import Modules](#1.-Import-Modules)  \n",
    "2. [Set static paths](#2.-Set-static-paths)  \n",
    "3. [Load files](#3.-Load-files)  \n",
    "    3.1 [Load test data](#3.1-Load-test-data)  \n",
    "    3.2 [Load kmeans](#3.1-Load-kmeans)  \n",
    "4. [Process data](#4.-Process-data)  \n",
    "    4.1 [Transform data](#4.1-Transform-data)  \n",
    "5. [Measure clustering](#5.-Measure-clustering)  \n",
    "    5.1 [Calculate kmeans](#5.1-Calculate-kmeans)  \n",
    "    5.2 [Transform data](#4.1-Transform-data)  \n",
    "6. [Create gaussian](#6.-Create-gaussian)  \n",
    "    6.1 [Calculate mean](#6.1-Calculate-mean)  \n",
    "    6.2 [Calculate variance](#6.2-Calculate-variance)  \n",
    "    6.3 [Build gaussian](#6.3-Build-gaussian)  \n",
    "    6.4 [Plot gaussian](#6.4-Plot-gaussian)  \n",
    "7. [Save out results](#7.-Save-out-results)  "
   ]
  },
  {
   "cell_type": "markdown",
   "metadata": {},
   "source": [
    "## 1. Import Modules"
   ]
  },
  {
   "cell_type": "code",
   "execution_count": 82,
   "metadata": {},
   "outputs": [],
   "source": [
    "import pandas as pd\n",
    "import numpy as np\n",
    "import pickle"
   ]
  },
  {
   "cell_type": "code",
   "execution_count": 83,
   "metadata": {},
   "outputs": [],
   "source": [
    "import os\n",
    "util_path = '../notebooks'\n",
    "os.chdir(util_path)\n",
    "gtex_tmm = pd.read_csv('2Filtered_Maize_expression.csv', index_col=0)"
   ]
  },
  {
   "cell_type": "code",
   "execution_count": 84,
   "metadata": {},
   "outputs": [],
   "source": [
    "from sklearn.model_selection import train_test_split\n",
    "train, test = train_test_split(gtex_tmm,test_size = 0.2)"
   ]
  },
  {
   "cell_type": "code",
   "execution_count": 85,
   "metadata": {},
   "outputs": [],
   "source": [
    "import os"
   ]
  },
  {
   "cell_type": "code",
   "execution_count": 86,
   "metadata": {},
   "outputs": [],
   "source": [
    "util_path = '../src'\n",
    "os.chdir(util_path)"
   ]
  },
  {
   "cell_type": "code",
   "execution_count": 87,
   "metadata": {},
   "outputs": [
    {
     "name": "stdout",
     "output_type": "stream",
     "text": [
      "The autoreload extension is already loaded. To reload it, use:\n",
      "  %reload_ext autoreload\n"
     ]
    }
   ],
   "source": [
    "import pandas as pd\n",
    "import pickle\n",
    "from tqdm import tqdm\n",
    "from cluster import get_random_gene_df, get_kmeans_dict, get_p_value\n",
    "from vis import plot_umap\n",
    "from modelling.cnn import log_transform\n",
    "import statistics \n",
    "import math\n",
    "import numpy as np\n",
    "import seaborn as sns\n",
    "import matplotlib.pyplot as plt\n",
    "\n",
    "%load_ext autoreload\n",
    "%autoreload 2"
   ]
  },
  {
   "cell_type": "markdown",
   "metadata": {},
   "source": [
    "## 2. Set static paths"
   ]
  },
  {
   "cell_type": "code",
   "execution_count": 88,
   "metadata": {},
   "outputs": [],
   "source": [
    "data_type = \"imbalanced\"\n",
    "data_dir = \"../data/\""
   ]
  },
  {
   "cell_type": "code",
   "execution_count": 89,
   "metadata": {},
   "outputs": [],
   "source": [
    "input_dir = data_dir + \"processed/\"\n",
    "gene_dir = data_dir + \"gene_lists/\"\n",
    "fig_dir = \"../figures/\"\n",
    "output_dir = data_dir + \"proc/\""
   ]
  },
  {
   "cell_type": "markdown",
   "metadata": {},
   "source": [
    "## 3. Load files"
   ]
  },
  {
   "cell_type": "markdown",
   "metadata": {},
   "source": [
    "#### 3.1 Load test data"
   ]
  },
  {
   "cell_type": "code",
   "execution_count": 90,
   "metadata": {},
   "outputs": [],
   "source": [
    "test_data = test"
   ]
  },
  {
   "cell_type": "markdown",
   "metadata": {},
   "source": [
    "#### 3.2 Load kmeans"
   ]
  },
  {
   "cell_type": "code",
   "execution_count": 91,
   "metadata": {},
   "outputs": [],
   "source": [
    "## Test data\n",
    "with open(input_dir + \"shap_kmeans.pkl\", \"rb\") as f:\n",
    "    shap_kmeans = pickle.load(f)"
   ]
  },
  {
   "cell_type": "markdown",
   "metadata": {},
   "source": [
    "## 4. Process data"
   ]
  },
  {
   "cell_type": "markdown",
   "metadata": {},
   "source": [
    "#### 4.1 Transform data"
   ]
  },
  {
   "cell_type": "code",
   "execution_count": 92,
   "metadata": {},
   "outputs": [],
   "source": [
    "test_data = log_transform(test_data, label=True)"
   ]
  },
  {
   "cell_type": "markdown",
   "metadata": {},
   "source": [
    "## 5. Measure clustering"
   ]
  },
  {
   "cell_type": "markdown",
   "metadata": {},
   "source": [
    "#### 5.1 Calculate kmeans"
   ]
  },
  {
   "cell_type": "code",
   "execution_count": 93,
   "metadata": {
    "scrolled": true
   },
   "outputs": [
    {
     "name": "stderr",
     "output_type": "stream",
     "text": [
      "  0%|          | 0/10 [00:00<?, ?it/s]/root/GradientExplainer-RNAseq-master_wzj/src/cluster.py:59: SettingWithCopyWarning: \n",
      "A value is trying to be set on a copy of a slice from a DataFrame.\n",
      "Try using .loc[row_indexer,col_indexer] = value instead\n",
      "\n",
      "See the caveats in the documentation: https://pandas.pydata.org/pandas-docs/stable/user_guide/indexing.html#returning-a-view-versus-a-copy\n",
      "  gene_df_rand[\"tissue\"] = labels\n",
      " 10%|█         | 1/10 [00:01<00:12,  1.39s/it]/root/GradientExplainer-RNAseq-master_wzj/src/cluster.py:59: SettingWithCopyWarning: \n",
      "A value is trying to be set on a copy of a slice from a DataFrame.\n",
      "Try using .loc[row_indexer,col_indexer] = value instead\n",
      "\n",
      "See the caveats in the documentation: https://pandas.pydata.org/pandas-docs/stable/user_guide/indexing.html#returning-a-view-versus-a-copy\n",
      "  gene_df_rand[\"tissue\"] = labels\n",
      " 20%|██        | 2/10 [00:02<00:11,  1.38s/it]/root/GradientExplainer-RNAseq-master_wzj/src/cluster.py:59: SettingWithCopyWarning: \n",
      "A value is trying to be set on a copy of a slice from a DataFrame.\n",
      "Try using .loc[row_indexer,col_indexer] = value instead\n",
      "\n",
      "See the caveats in the documentation: https://pandas.pydata.org/pandas-docs/stable/user_guide/indexing.html#returning-a-view-versus-a-copy\n",
      "  gene_df_rand[\"tissue\"] = labels\n",
      " 30%|███       | 3/10 [00:04<00:09,  1.38s/it]/root/GradientExplainer-RNAseq-master_wzj/src/cluster.py:59: SettingWithCopyWarning: \n",
      "A value is trying to be set on a copy of a slice from a DataFrame.\n",
      "Try using .loc[row_indexer,col_indexer] = value instead\n",
      "\n",
      "See the caveats in the documentation: https://pandas.pydata.org/pandas-docs/stable/user_guide/indexing.html#returning-a-view-versus-a-copy\n",
      "  gene_df_rand[\"tissue\"] = labels\n",
      " 40%|████      | 4/10 [00:05<00:08,  1.38s/it]/root/GradientExplainer-RNAseq-master_wzj/src/cluster.py:59: SettingWithCopyWarning: \n",
      "A value is trying to be set on a copy of a slice from a DataFrame.\n",
      "Try using .loc[row_indexer,col_indexer] = value instead\n",
      "\n",
      "See the caveats in the documentation: https://pandas.pydata.org/pandas-docs/stable/user_guide/indexing.html#returning-a-view-versus-a-copy\n",
      "  gene_df_rand[\"tissue\"] = labels\n",
      " 50%|█████     | 5/10 [00:06<00:06,  1.38s/it]/root/GradientExplainer-RNAseq-master_wzj/src/cluster.py:59: SettingWithCopyWarning: \n",
      "A value is trying to be set on a copy of a slice from a DataFrame.\n",
      "Try using .loc[row_indexer,col_indexer] = value instead\n",
      "\n",
      "See the caveats in the documentation: https://pandas.pydata.org/pandas-docs/stable/user_guide/indexing.html#returning-a-view-versus-a-copy\n",
      "  gene_df_rand[\"tissue\"] = labels\n",
      " 60%|██████    | 6/10 [00:08<00:05,  1.37s/it]/root/GradientExplainer-RNAseq-master_wzj/src/cluster.py:59: SettingWithCopyWarning: \n",
      "A value is trying to be set on a copy of a slice from a DataFrame.\n",
      "Try using .loc[row_indexer,col_indexer] = value instead\n",
      "\n",
      "See the caveats in the documentation: https://pandas.pydata.org/pandas-docs/stable/user_guide/indexing.html#returning-a-view-versus-a-copy\n",
      "  gene_df_rand[\"tissue\"] = labels\n",
      " 70%|███████   | 7/10 [00:09<00:04,  1.45s/it]/root/GradientExplainer-RNAseq-master_wzj/src/cluster.py:59: SettingWithCopyWarning: \n",
      "A value is trying to be set on a copy of a slice from a DataFrame.\n",
      "Try using .loc[row_indexer,col_indexer] = value instead\n",
      "\n",
      "See the caveats in the documentation: https://pandas.pydata.org/pandas-docs/stable/user_guide/indexing.html#returning-a-view-versus-a-copy\n",
      "  gene_df_rand[\"tissue\"] = labels\n",
      " 80%|████████  | 8/10 [00:11<00:02,  1.42s/it]/root/GradientExplainer-RNAseq-master_wzj/src/cluster.py:59: SettingWithCopyWarning: \n",
      "A value is trying to be set on a copy of a slice from a DataFrame.\n",
      "Try using .loc[row_indexer,col_indexer] = value instead\n",
      "\n",
      "See the caveats in the documentation: https://pandas.pydata.org/pandas-docs/stable/user_guide/indexing.html#returning-a-view-versus-a-copy\n",
      "  gene_df_rand[\"tissue\"] = labels\n",
      " 90%|█████████ | 9/10 [00:12<00:01,  1.41s/it]/root/GradientExplainer-RNAseq-master_wzj/src/cluster.py:59: SettingWithCopyWarning: \n",
      "A value is trying to be set on a copy of a slice from a DataFrame.\n",
      "Try using .loc[row_indexer,col_indexer] = value instead\n",
      "\n",
      "See the caveats in the documentation: https://pandas.pydata.org/pandas-docs/stable/user_guide/indexing.html#returning-a-view-versus-a-copy\n",
      "  gene_df_rand[\"tissue\"] = labels\n",
      "100%|██████████| 10/10 [00:13<00:00,  1.40s/it]\n"
     ]
    }
   ],
   "source": [
    "random_list = []\n",
    "for i in tqdm(range(10)):\n",
    "    random_df = get_random_gene_df(test_data, 2423)\n",
    "    rand_shap_umap_df = plot_umap(\n",
    "        random_df,\n",
    "        \"Fig_t\",\n",
    "        fig_dir,\n",
    "        label_col=\"tissue\",\n",
    "        seed=42,\n",
    "        save_plot=False\n",
    "    )\n",
    "    random_list.append(rand_shap_umap_df)"
   ]
  },
  {
   "cell_type": "code",
   "execution_count": 94,
   "metadata": {},
   "outputs": [],
   "source": [
    "random_shap_dict = {}\n",
    "kmeans_dict = {}\n",
    "for i in range(10):\n",
    "    random_shap_dict[i]=[]"
   ]
  },
  {
   "cell_type": "code",
   "execution_count": 95,
   "metadata": {},
   "outputs": [
    {
     "name": "stderr",
     "output_type": "stream",
     "text": [
      "100%|██████████| 10/10 [00:07<00:00,  1.26it/s]\n"
     ]
    }
   ],
   "source": [
    "for x in tqdm(range(10)):\n",
    "    for i in range(10):\n",
    "        random_shap_dict[i].append(get_kmeans_dict(random_list[i], \"tissue\"))"
   ]
  },
  {
   "cell_type": "code",
   "execution_count": 96,
   "metadata": {},
   "outputs": [],
   "source": [
    "for i in range(10):\n",
    "    kmeans_dict[f\"Random SHAP {i}\"] = random_shap_dict[i]"
   ]
  },
  {
   "cell_type": "code",
   "execution_count": 97,
   "metadata": {},
   "outputs": [],
   "source": [
    "random_shap_results = []\n",
    "for i in range(10):\n",
    "    random_shap_results.append(pd.DataFrame.from_dict(kmeans_dict[f\"Random SHAP {i}\"]))"
   ]
  },
  {
   "cell_type": "code",
   "execution_count": 98,
   "metadata": {},
   "outputs": [],
   "source": [
    "rand_mean = []\n",
    "for i in range(10):\n",
    "    rand_mean.append(random_shap_results[i][\"V-Measure\"].mean())"
   ]
  },
  {
   "cell_type": "markdown",
   "metadata": {},
   "source": [
    "## 6. Create gaussian"
   ]
  },
  {
   "cell_type": "markdown",
   "metadata": {},
   "source": [
    "#### 6.1 Calculate mean"
   ]
  },
  {
   "cell_type": "code",
   "execution_count": 99,
   "metadata": {},
   "outputs": [],
   "source": [
    "overall_mean = statistics.mean(rand_mean)"
   ]
  },
  {
   "cell_type": "markdown",
   "metadata": {},
   "source": [
    "#### 6.2 Calculate variance"
   ]
  },
  {
   "cell_type": "code",
   "execution_count": 100,
   "metadata": {},
   "outputs": [],
   "source": [
    "var_list = []\n",
    "for i in range(10):\n",
    "    var_list.append(random_shap_results[i][\"V-Measure\"].var())"
   ]
  },
  {
   "cell_type": "code",
   "execution_count": 101,
   "metadata": {},
   "outputs": [],
   "source": [
    "mean_var = statistics.mean(var_list)"
   ]
  },
  {
   "cell_type": "code",
   "execution_count": 102,
   "metadata": {},
   "outputs": [],
   "source": [
    "std_dev = math.sqrt(mean_var)"
   ]
  },
  {
   "cell_type": "markdown",
   "metadata": {},
   "source": [
    "#### 6.3 Build gaussian"
   ]
  },
  {
   "cell_type": "code",
   "execution_count": 103,
   "metadata": {},
   "outputs": [],
   "source": [
    "rand_gauss = np.random.normal(loc=overall_mean, scale=std_dev, size=10000)"
   ]
  },
  {
   "cell_type": "code",
   "execution_count": 104,
   "metadata": {},
   "outputs": [],
   "source": [
    "rand_gauss = pd.DataFrame(rand_gauss, columns=[\"V-Measure\"])"
   ]
  },
  {
   "cell_type": "markdown",
   "metadata": {},
   "source": [
    "#### 6.4 Plot gaussian"
   ]
  },
  {
   "cell_type": "code",
   "execution_count": 105,
   "metadata": {},
   "outputs": [
    {
     "data": {
      "image/png": "[encoded data removed]",
      "text/plain": [
       "<Figure size 432x288 with 1 Axes>"
      ]
     },
     "metadata": {
      "needs_background": "light"
     },
     "output_type": "display_data"
    }
   ],
   "source": [
    "metric = \"V-Measure\"\n",
    "sns.kdeplot(rand_gauss[metric], label=\"Random\", color=\"gray\").set_title(metric)\n",
    "plt.axvline(shap_kmeans[metric].mean(), label=\"SHAP\")\n",
    "plt.legend()\n",
    "sns.despine()\n",
    "file_path = fig_dir+\"suppfig8.svg\"\n",
    "plt.savefig(file_path)"
   ]
  },
  {
   "cell_type": "markdown",
   "metadata": {},
   "source": [
    "## 7. Save out results"
   ]
  },
  {
   "cell_type": "code",
   "execution_count": 106,
   "metadata": {},
   "outputs": [],
   "source": [
    "rand_gauss.to_pickle(\"rand_gauss.pkl\")"
   ]
  },
  {
   "cell_type": "code",
   "execution_count": null,
   "metadata": {},
   "outputs": [],
   "source": []
  }
 ],
 "metadata": {
  "kernelspec": {
   "display_name": "Python 3 (ipykernel)",
   "language": "python",
   "name": "python3"
  },
  "language_info": {
   "codemirror_mode": {
    "name": "ipython",
    "version": 3
   },
   "file_extension": ".py",
   "mimetype": "text/x-python",
   "name": "python",
   "nbconvert_exporter": "python",
   "pygments_lexer": "ipython3",
   "version": "3.9.13"
  }
 },
 "nbformat": 4,
 "nbformat_minor": 4
}
