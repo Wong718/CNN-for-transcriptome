{
 "cells": [
  {
   "cell_type": "markdown",
   "metadata": {},
   "source": [
    "# Training 2D CNN on Maize transcriptome data\n",
    "\n",
    "This file is part of the Comparative analysis of tissue-specific genes in maize based on machine learning models: CNN performs technically best, LightGBM performs biologically sound project."
   ]
  },
  {
   "cell_type": "markdown",
   "metadata": {},
   "source": [
    "### Objective:\n",
    "> Investigation into 2D CNN with Maize transcriptome data\n",
    "\n",
    "### Input files:\n",
    "1. *Filtered_Maize_expression.csv*\n",
    "\n",
    "\n",
    "### Output files:\n",
    "1. *{data_type}_model_topology.json*\n",
    "2. *{data_type}_model_weights.hdf5*\n",
    " \n",
    "### Table of contents:\n",
    "1. [Import Modules](#1.-Import-Modules)  \n",
    "2. [Set static paths](#2.-Set-static-paths)  \n",
    "3. [Process data](#4.-Process-data)  \n",
    "    3.1 [Split X and y](#4.1-Split-X-and-y)  \n",
    "    3.2 [Transform data](#4.2-Transform-data)  \n",
    "    3.3 [Add labels](#4.3-Add-labels)\n",
    "4. [Train model](#5.-Train-model)  \n",
    "    4.1 [Fit model](#5.1-Fit-model)  \n",
    "    4.2 [Save model](#5.2-Save-model)  \n",
    "5. [Test model](#6.-Test-model)  \n",
    "    4.1 [Prepare data](#6.2-Prepare-data)  \n",
    "    4.2 [Load model](#6.3-Load-model)  \n",
    "    4.3 [Run inference](#6.4-Run-inference)  "
   ]
  },
  {
   "cell_type": "markdown",
   "metadata": {},
   "source": [
    "## 1. Import Modules"
   ]
  },
  {
   "cell_type": "code",
   "execution_count": 27,
   "metadata": {},
   "outputs": [],
   "source": [
    "import pandas as pd\n",
    "import numpy as np\n",
    "import pickle"
   ]
  },
  {
   "cell_type": "code",
   "execution_count": 28,
   "metadata": {},
   "outputs": [],
   "source": [
    "import os\n",
    "util_path = '../notebooks'\n",
    "os.chdir(util_path)\n",
    "Expression_matrix = pd.read_csv('2Filtered_Maize_expression.csv', index_col=0)"
   ]
  },
  {
   "cell_type": "code",
   "execution_count": 29,
   "metadata": {},
   "outputs": [
    {
     "data": {
      "text/html": [
       "<div>\n",
       "<style scoped>\n",
       "    .dataframe tbody tr th:only-of-type {\n",
       "        vertical-align: middle;\n",
       "    }\n",
       "\n",
       "    .dataframe tbody tr th {\n",
       "        vertical-align: top;\n",
       "    }\n",
       "\n",
       "    .dataframe thead th {\n",
       "        text-align: right;\n",
       "    }\n",
       "</style>\n",
       "<table border=\"1\" class=\"dataframe\">\n",
       "  <thead>\n",
       "    <tr style=\"text-align: right;\">\n",
       "      <th></th>\n",
       "      <th>Zm00001d032396</th>\n",
       "      <th>Zm00001d032398</th>\n",
       "      <th>Zm00001d032399</th>\n",
       "      <th>Zm00001d032400</th>\n",
       "      <th>Zm00001d032401</th>\n",
       "      <th>Zm00001d032402</th>\n",
       "      <th>Zm00001d032405</th>\n",
       "      <th>Zm00001d032407</th>\n",
       "      <th>Zm00001d032408</th>\n",
       "      <th>Zm00001d032409</th>\n",
       "      <th>...</th>\n",
       "      <th>Zm00001d045391</th>\n",
       "      <th>Zm00001d045361</th>\n",
       "      <th>Zm00001d045063</th>\n",
       "      <th>Zm00001d045054</th>\n",
       "      <th>Zm00001d045015</th>\n",
       "      <th>Zm00001d044966</th>\n",
       "      <th>Zm00001d046033</th>\n",
       "      <th>Zm00001d046016</th>\n",
       "      <th>Zm00001d047658</th>\n",
       "      <th>tissue</th>\n",
       "    </tr>\n",
       "    <tr>\n",
       "      <th>Unnamed: 0</th>\n",
       "      <th></th>\n",
       "      <th></th>\n",
       "      <th></th>\n",
       "      <th></th>\n",
       "      <th></th>\n",
       "      <th></th>\n",
       "      <th></th>\n",
       "      <th></th>\n",
       "      <th></th>\n",
       "      <th></th>\n",
       "      <th></th>\n",
       "      <th></th>\n",
       "      <th></th>\n",
       "      <th></th>\n",
       "      <th></th>\n",
       "      <th></th>\n",
       "      <th></th>\n",
       "      <th></th>\n",
       "      <th></th>\n",
       "      <th></th>\n",
       "      <th></th>\n",
       "    </tr>\n",
       "  </thead>\n",
       "  <tbody>\n",
       "    <tr>\n",
       "      <th>SRR1030974</th>\n",
       "      <td>8.157619</td>\n",
       "      <td>0.0</td>\n",
       "      <td>2.275141</td>\n",
       "      <td>52.605335</td>\n",
       "      <td>0.514260</td>\n",
       "      <td>58.711246</td>\n",
       "      <td>47.712910</td>\n",
       "      <td>14.526341</td>\n",
       "      <td>0.591568</td>\n",
       "      <td>7.529287</td>\n",
       "      <td>...</td>\n",
       "      <td>2.773152</td>\n",
       "      <td>5.296510</td>\n",
       "      <td>3.277321</td>\n",
       "      <td>0.298473</td>\n",
       "      <td>2.080474</td>\n",
       "      <td>5.034541</td>\n",
       "      <td>6.040693</td>\n",
       "      <td>42.783398</td>\n",
       "      <td>0.196235</td>\n",
       "      <td>root</td>\n",
       "    </tr>\n",
       "    <tr>\n",
       "      <th>SRR1030975</th>\n",
       "      <td>7.264478</td>\n",
       "      <td>0.0</td>\n",
       "      <td>2.779206</td>\n",
       "      <td>57.824116</td>\n",
       "      <td>0.559446</td>\n",
       "      <td>52.145851</td>\n",
       "      <td>82.328278</td>\n",
       "      <td>13.596546</td>\n",
       "      <td>0.364540</td>\n",
       "      <td>3.799316</td>\n",
       "      <td>...</td>\n",
       "      <td>6.606791</td>\n",
       "      <td>4.113046</td>\n",
       "      <td>1.851271</td>\n",
       "      <td>0.261718</td>\n",
       "      <td>2.769382</td>\n",
       "      <td>5.007706</td>\n",
       "      <td>5.638885</td>\n",
       "      <td>41.406376</td>\n",
       "      <td>0.000000</td>\n",
       "      <td>root</td>\n",
       "    </tr>\n",
       "    <tr>\n",
       "      <th>SRR1030976</th>\n",
       "      <td>8.328547</td>\n",
       "      <td>0.0</td>\n",
       "      <td>3.230831</td>\n",
       "      <td>42.953331</td>\n",
       "      <td>0.334829</td>\n",
       "      <td>49.397705</td>\n",
       "      <td>49.869648</td>\n",
       "      <td>8.037382</td>\n",
       "      <td>0.405711</td>\n",
       "      <td>6.947237</td>\n",
       "      <td>...</td>\n",
       "      <td>38.602425</td>\n",
       "      <td>2.604917</td>\n",
       "      <td>4.993490</td>\n",
       "      <td>1.731227</td>\n",
       "      <td>2.359700</td>\n",
       "      <td>2.586420</td>\n",
       "      <td>6.572925</td>\n",
       "      <td>51.332336</td>\n",
       "      <td>0.109857</td>\n",
       "      <td>root</td>\n",
       "    </tr>\n",
       "    <tr>\n",
       "      <th>SRR1030977</th>\n",
       "      <td>6.621617</td>\n",
       "      <td>0.0</td>\n",
       "      <td>2.838485</td>\n",
       "      <td>65.223167</td>\n",
       "      <td>1.483768</td>\n",
       "      <td>53.151070</td>\n",
       "      <td>75.148918</td>\n",
       "      <td>14.176978</td>\n",
       "      <td>0.790322</td>\n",
       "      <td>3.839634</td>\n",
       "      <td>...</td>\n",
       "      <td>4.471345</td>\n",
       "      <td>10.553447</td>\n",
       "      <td>1.957708</td>\n",
       "      <td>0.029638</td>\n",
       "      <td>2.777192</td>\n",
       "      <td>4.330374</td>\n",
       "      <td>5.348520</td>\n",
       "      <td>40.181637</td>\n",
       "      <td>0.022587</td>\n",
       "      <td>root</td>\n",
       "    </tr>\n",
       "    <tr>\n",
       "      <th>SRR1030978</th>\n",
       "      <td>8.687157</td>\n",
       "      <td>0.0</td>\n",
       "      <td>2.788881</td>\n",
       "      <td>52.362190</td>\n",
       "      <td>0.346632</td>\n",
       "      <td>46.062824</td>\n",
       "      <td>51.403378</td>\n",
       "      <td>8.094249</td>\n",
       "      <td>0.510341</td>\n",
       "      <td>6.406972</td>\n",
       "      <td>...</td>\n",
       "      <td>111.361015</td>\n",
       "      <td>3.941180</td>\n",
       "      <td>5.267010</td>\n",
       "      <td>1.550525</td>\n",
       "      <td>2.630184</td>\n",
       "      <td>3.084651</td>\n",
       "      <td>6.505562</td>\n",
       "      <td>50.188221</td>\n",
       "      <td>0.217275</td>\n",
       "      <td>root</td>\n",
       "    </tr>\n",
       "  </tbody>\n",
       "</table>\n",
       "<p>5 rows × 21112 columns</p>\n",
       "</div>"
      ],
      "text/plain": [
       "            Zm00001d032396  Zm00001d032398  Zm00001d032399  Zm00001d032400  \\\n",
       "Unnamed: 0                                                                   \n",
       "SRR1030974        8.157619             0.0        2.275141       52.605335   \n",
       "SRR1030975        7.264478             0.0        2.779206       57.824116   \n",
       "SRR1030976        8.328547             0.0        3.230831       42.953331   \n",
       "SRR1030977        6.621617             0.0        2.838485       65.223167   \n",
       "SRR1030978        8.687157             0.0        2.788881       52.362190   \n",
       "\n",
       "            Zm00001d032401  Zm00001d032402  Zm00001d032405  Zm00001d032407  \\\n",
       "Unnamed: 0                                                                   \n",
       "SRR1030974        0.514260       58.711246       47.712910       14.526341   \n",
       "SRR1030975        0.559446       52.145851       82.328278       13.596546   \n",
       "SRR1030976        0.334829       49.397705       49.869648        8.037382   \n",
       "SRR1030977        1.483768       53.151070       75.148918       14.176978   \n",
       "SRR1030978        0.346632       46.062824       51.403378        8.094249   \n",
       "\n",
       "            Zm00001d032408  Zm00001d032409  ...  Zm00001d045391  \\\n",
       "Unnamed: 0                                  ...                   \n",
       "SRR1030974        0.591568        7.529287  ...        2.773152   \n",
       "SRR1030975        0.364540        3.799316  ...        6.606791   \n",
       "SRR1030976        0.405711        6.947237  ...       38.602425   \n",
       "SRR1030977        0.790322        3.839634  ...        4.471345   \n",
       "SRR1030978        0.510341        6.406972  ...      111.361015   \n",
       "\n",
       "            Zm00001d045361  Zm00001d045063  Zm00001d045054  Zm00001d045015  \\\n",
       "Unnamed: 0                                                                   \n",
       "SRR1030974        5.296510        3.277321        0.298473        2.080474   \n",
       "SRR1030975        4.113046        1.851271        0.261718        2.769382   \n",
       "SRR1030976        2.604917        4.993490        1.731227        2.359700   \n",
       "SRR1030977       10.553447        1.957708        0.029638        2.777192   \n",
       "SRR1030978        3.941180        5.267010        1.550525        2.630184   \n",
       "\n",
       "            Zm00001d044966  Zm00001d046033  Zm00001d046016  Zm00001d047658  \\\n",
       "Unnamed: 0                                                                   \n",
       "SRR1030974        5.034541        6.040693       42.783398        0.196235   \n",
       "SRR1030975        5.007706        5.638885       41.406376        0.000000   \n",
       "SRR1030976        2.586420        6.572925       51.332336        0.109857   \n",
       "SRR1030977        4.330374        5.348520       40.181637        0.022587   \n",
       "SRR1030978        3.084651        6.505562       50.188221        0.217275   \n",
       "\n",
       "            tissue  \n",
       "Unnamed: 0          \n",
       "SRR1030974    root  \n",
       "SRR1030975    root  \n",
       "SRR1030976    root  \n",
       "SRR1030977    root  \n",
       "SRR1030978    root  \n",
       "\n",
       "[5 rows x 21112 columns]"
      ]
     },
     "execution_count": 29,
     "metadata": {},
     "output_type": "execute_result"
    }
   ],
   "source": [
    "Expression_matrix.head()"
   ]
  },
  {
   "cell_type": "code",
   "execution_count": 30,
   "metadata": {},
   "outputs": [],
   "source": [
    "from sklearn.model_selection import train_test_split\n",
    "train, test = train_test_split(Expression_matrix,test_size = 0.2)"
   ]
  },
  {
   "cell_type": "code",
   "execution_count": 31,
   "metadata": {},
   "outputs": [],
   "source": [
    "util_path = '../src'\n",
    "os.chdir(util_path)"
   ]
  },
  {
   "cell_type": "code",
   "execution_count": 32,
   "metadata": {},
   "outputs": [],
   "source": [
    "from keras import backend as K\n",
    "from keras.models import model_from_json\n",
    "from sklearn.preprocessing import LabelBinarizer\n",
    "from sklearn.metrics import f1_score"
   ]
  },
  {
   "cell_type": "code",
   "execution_count": 33,
   "metadata": {},
   "outputs": [
    {
     "name": "stdout",
     "output_type": "stream",
     "text": [
      "The autoreload extension is already loaded. To reload it, use:\n",
      "  %reload_ext autoreload\n"
     ]
    }
   ],
   "source": [
    "from modelling.cnn import convert_2d, convert_onehot, keras_cnn, log_transform\n",
    "%load_ext autoreload\n",
    "%autoreload 2"
   ]
  },
  {
   "cell_type": "code",
   "execution_count": 34,
   "metadata": {},
   "outputs": [],
   "source": [
    "# Select a single GPU to use \n",
    "# Skip this part if you're parallelising or only have 1 GPU\n",
    "os.environ[\"CUDA_DEVICE_ORDER\"]=\"PCI_BUS_ID\"; \n",
    "os.environ[\"CUDA_VISIBLE_DEVICES\"]=\"0\""
   ]
  },
  {
   "cell_type": "markdown",
   "metadata": {},
   "source": [
    "## 2. Set static paths"
   ]
  },
  {
   "cell_type": "code",
   "execution_count": 35,
   "metadata": {},
   "outputs": [],
   "source": [
    "data_type = \"imbalanced\""
   ]
  },
  {
   "cell_type": "code",
   "execution_count": 36,
   "metadata": {},
   "outputs": [],
   "source": [
    "input_dir = \"../data/processed/\"\n",
    "model_dir = \"../models/\"\n",
    "fig_dir = \"../figures/\""
   ]
  },
  {
   "cell_type": "markdown",
   "metadata": {},
   "source": [
    "## 3. Process data"
   ]
  },
  {
   "cell_type": "markdown",
   "metadata": {},
   "source": [
    "#### 3.1 Split X and y"
   ]
  },
  {
   "cell_type": "code",
   "execution_count": 38,
   "metadata": {},
   "outputs": [],
   "source": [
    "X = train.drop('tissue', axis=1)\n",
    "y_train = train['tissue']"
   ]
  },
  {
   "cell_type": "markdown",
   "metadata": {},
   "source": [
    "#### 3.2 Transform data"
   ]
  },
  {
   "cell_type": "code",
   "execution_count": 39,
   "metadata": {},
   "outputs": [],
   "source": [
    "X_train = log_transform(X)"
   ]
  },
  {
   "cell_type": "code",
   "execution_count": 40,
   "metadata": {},
   "outputs": [],
   "source": [
    "X_train_converted = convert_2d(X_train)\n",
    "y_train_converted = convert_onehot(y_train)"
   ]
  },
  {
   "cell_type": "markdown",
   "metadata": {},
   "source": [
    "## 4. Train model"
   ]
  },
  {
   "cell_type": "markdown",
   "metadata": {},
   "source": [
    "#### 4.1 Fit model"
   ]
  },
  {
   "cell_type": "code",
   "execution_count": 41,
   "metadata": {},
   "outputs": [
    {
     "name": "stdout",
     "output_type": "stream",
     "text": [
      "Model Initiated.\n"
     ]
    }
   ],
   "source": [
    "model = keras_cnn(X_train_converted, y_train_converted)\n",
    "print(\"Model Initiated.\")"
   ]
  },
  {
   "cell_type": "code",
   "execution_count": 42,
   "metadata": {
    "scrolled": true
   },
   "outputs": [
    {
     "name": "stdout",
     "output_type": "stream",
     "text": [
      "Train on 687 samples, validate on 77 samples\n",
      "Epoch 1/50\n",
      "687/687 [==============================] - 5s 7ms/step - loss: 0.8301 - accuracy: 0.7933 - val_loss: 8.2766 - val_accuracy: 0.2208\n",
      "Epoch 2/50\n",
      "687/687 [==============================] - 4s 5ms/step - loss: 0.1505 - accuracy: 0.9607 - val_loss: 2.9158 - val_accuracy: 0.2208\n",
      "Epoch 3/50\n",
      "687/687 [==============================] - 4s 5ms/step - loss: 0.0510 - accuracy: 0.9898 - val_loss: 1.9444 - val_accuracy: 0.5065\n",
      "Epoch 4/50\n",
      "687/687 [==============================] - 4s 5ms/step - loss: 0.0183 - accuracy: 0.9956 - val_loss: 1.9443 - val_accuracy: 0.4935\n",
      "Epoch 5/50\n",
      "687/687 [==============================] - 4s 5ms/step - loss: 0.0175 - accuracy: 0.9942 - val_loss: 2.0358 - val_accuracy: 0.4935\n",
      "Epoch 6/50\n",
      "687/687 [==============================] - 4s 5ms/step - loss: 0.0064 - accuracy: 0.9971 - val_loss: 2.5067 - val_accuracy: 0.2987\n",
      "Epoch 7/50\n",
      "687/687 [==============================] - 4s 5ms/step - loss: 0.0072 - accuracy: 0.9971 - val_loss: 3.1275 - val_accuracy: 0.2987\n",
      "Epoch 8/50\n",
      "687/687 [==============================] - 4s 5ms/step - loss: 0.0102 - accuracy: 0.9971 - val_loss: 3.2385 - val_accuracy: 0.2987\n",
      "Epoch 9/50\n",
      "687/687 [==============================] - 4s 5ms/step - loss: 0.0137 - accuracy: 0.9956 - val_loss: 3.7520 - val_accuracy: 0.2987\n",
      "Epoch 10/50\n",
      "687/687 [==============================] - 4s 5ms/step - loss: 0.0131 - accuracy: 0.9956 - val_loss: 2.9536 - val_accuracy: 0.2987\n",
      "Epoch 11/50\n",
      "687/687 [==============================] - 4s 5ms/step - loss: 0.0039 - accuracy: 0.9971 - val_loss: 2.8779 - val_accuracy: 0.2987\n",
      "Epoch 12/50\n",
      "687/687 [==============================] - 4s 5ms/step - loss: 6.1032e-04 - accuracy: 1.0000 - val_loss: 2.5566 - val_accuracy: 0.4286\n",
      "Epoch 13/50\n",
      "687/687 [==============================] - 4s 5ms/step - loss: 3.0443e-04 - accuracy: 1.0000 - val_loss: 2.4626 - val_accuracy: 0.4805\n",
      "Epoch 14/50\n",
      "687/687 [==============================] - 4s 5ms/step - loss: 2.0952e-04 - accuracy: 1.0000 - val_loss: 2.3780 - val_accuracy: 0.4805\n",
      "Epoch 15/50\n",
      "687/687 [==============================] - 4s 5ms/step - loss: 2.6169e-04 - accuracy: 1.0000 - val_loss: 2.8774 - val_accuracy: 0.4026\n",
      "Epoch 16/50\n",
      "687/687 [==============================] - 4s 5ms/step - loss: 2.4433e-04 - accuracy: 1.0000 - val_loss: 1.9847 - val_accuracy: 0.5065\n",
      "Epoch 17/50\n",
      "687/687 [==============================] - 4s 5ms/step - loss: 1.0557e-04 - accuracy: 1.0000 - val_loss: 2.0194 - val_accuracy: 0.5584\n",
      "Epoch 18/50\n",
      "687/687 [==============================] - 4s 5ms/step - loss: 5.5308e-05 - accuracy: 1.0000 - val_loss: 2.0437 - val_accuracy: 0.5455\n",
      "Epoch 19/50\n",
      "687/687 [==============================] - 4s 5ms/step - loss: 5.0212e-05 - accuracy: 1.0000 - val_loss: 2.0075 - val_accuracy: 0.5584\n",
      "Epoch 20/50\n",
      "687/687 [==============================] - 4s 5ms/step - loss: 4.3312e-05 - accuracy: 1.0000 - val_loss: 1.9770 - val_accuracy: 0.5325\n",
      "Epoch 21/50\n",
      "687/687 [==============================] - 4s 5ms/step - loss: 3.8295e-05 - accuracy: 1.0000 - val_loss: 1.3484 - val_accuracy: 0.6104\n",
      "Epoch 22/50\n",
      "687/687 [==============================] - 4s 5ms/step - loss: 1.9696e-05 - accuracy: 1.0000 - val_loss: 1.3825 - val_accuracy: 0.6234\n",
      "Epoch 23/50\n",
      "687/687 [==============================] - 4s 5ms/step - loss: 4.4088e-05 - accuracy: 1.0000 - val_loss: 1.2283 - val_accuracy: 0.6623\n",
      "Epoch 24/50\n",
      "687/687 [==============================] - 4s 5ms/step - loss: 2.1190e-05 - accuracy: 1.0000 - val_loss: 0.8914 - val_accuracy: 0.6494\n",
      "Epoch 25/50\n",
      "687/687 [==============================] - 4s 5ms/step - loss: 1.2792e-05 - accuracy: 1.0000 - val_loss: 0.6019 - val_accuracy: 0.6883\n",
      "Epoch 26/50\n",
      "687/687 [==============================] - 4s 5ms/step - loss: 3.6430e-05 - accuracy: 1.0000 - val_loss: 0.1086 - val_accuracy: 0.9740\n",
      "Epoch 27/50\n",
      "687/687 [==============================] - 4s 5ms/step - loss: 1.4117e-05 - accuracy: 1.0000 - val_loss: 0.1003 - val_accuracy: 0.9740\n",
      "Epoch 28/50\n",
      "687/687 [==============================] - 4s 5ms/step - loss: 1.2632e-05 - accuracy: 1.0000 - val_loss: 0.0715 - val_accuracy: 0.9870\n",
      "Epoch 29/50\n",
      "687/687 [==============================] - 4s 5ms/step - loss: 1.1400e-05 - accuracy: 1.0000 - val_loss: 0.0586 - val_accuracy: 0.9740\n",
      "Epoch 30/50\n",
      "687/687 [==============================] - 4s 5ms/step - loss: 1.5447e-05 - accuracy: 1.0000 - val_loss: 0.0570 - val_accuracy: 0.9870\n",
      "Epoch 31/50\n",
      "687/687 [==============================] - 4s 5ms/step - loss: 8.9842e-06 - accuracy: 1.0000 - val_loss: 0.0396 - val_accuracy: 0.9870\n",
      "Epoch 32/50\n",
      "687/687 [==============================] - 4s 5ms/step - loss: 1.1394e-05 - accuracy: 1.0000 - val_loss: 0.0369 - val_accuracy: 1.0000\n",
      "Epoch 33/50\n",
      "687/687 [==============================] - 4s 5ms/step - loss: 1.1423e-05 - accuracy: 1.0000 - val_loss: 0.0308 - val_accuracy: 1.0000\n",
      "Epoch 34/50\n",
      "687/687 [==============================] - 4s 5ms/step - loss: 6.7704e-06 - accuracy: 1.0000 - val_loss: 0.0285 - val_accuracy: 1.0000\n",
      "Epoch 35/50\n",
      "687/687 [==============================] - 4s 5ms/step - loss: 7.1738e-06 - accuracy: 1.0000 - val_loss: 0.0289 - val_accuracy: 1.0000\n",
      "Epoch 36/50\n",
      "687/687 [==============================] - 4s 5ms/step - loss: 7.4772e-06 - accuracy: 1.0000 - val_loss: 0.0313 - val_accuracy: 1.0000\n",
      "Epoch 37/50\n",
      "687/687 [==============================] - 4s 5ms/step - loss: 6.5463e-06 - accuracy: 1.0000 - val_loss: 0.0339 - val_accuracy: 0.9870\n",
      "Epoch 38/50\n",
      "687/687 [==============================] - 4s 5ms/step - loss: 5.9790e-06 - accuracy: 1.0000 - val_loss: 0.0288 - val_accuracy: 1.0000\n",
      "Epoch 39/50\n",
      "687/687 [==============================] - 4s 5ms/step - loss: 5.1688e-06 - accuracy: 1.0000 - val_loss: 0.0231 - val_accuracy: 1.0000\n",
      "Epoch 40/50\n",
      "687/687 [==============================] - 4s 5ms/step - loss: 5.3329e-06 - accuracy: 1.0000 - val_loss: 0.0267 - val_accuracy: 1.0000\n",
      "Epoch 41/50\n",
      "687/687 [==============================] - 4s 5ms/step - loss: 6.3634e-06 - accuracy: 1.0000 - val_loss: 0.0266 - val_accuracy: 1.0000\n",
      "Epoch 42/50\n",
      "687/687 [==============================] - 4s 5ms/step - loss: 4.2481e-06 - accuracy: 1.0000 - val_loss: 0.0230 - val_accuracy: 1.0000\n",
      "Epoch 43/50\n",
      "687/687 [==============================] - 4s 5ms/step - loss: 5.3595e-06 - accuracy: 1.0000 - val_loss: 0.0240 - val_accuracy: 1.0000\n",
      "Epoch 44/50\n",
      "687/687 [==============================] - 4s 5ms/step - loss: 6.5146e-06 - accuracy: 1.0000 - val_loss: 0.0250 - val_accuracy: 1.0000\n",
      "Epoch 45/50\n",
      "687/687 [==============================] - 4s 5ms/step - loss: 1.0717e-05 - accuracy: 1.0000 - val_loss: 0.0280 - val_accuracy: 1.0000\n",
      "Epoch 46/50\n",
      "687/687 [==============================] - 4s 5ms/step - loss: 7.1451e-06 - accuracy: 1.0000 - val_loss: 0.0354 - val_accuracy: 0.9870\n",
      "Epoch 47/50\n",
      "687/687 [==============================] - 4s 5ms/step - loss: 3.1577e-06 - accuracy: 1.0000 - val_loss: 0.0329 - val_accuracy: 0.9870\n",
      "Epoch 48/50\n",
      "687/687 [==============================] - 4s 5ms/step - loss: 3.3887e-06 - accuracy: 1.0000 - val_loss: 0.0311 - val_accuracy: 1.0000\n",
      "Epoch 49/50\n",
      "687/687 [==============================] - 4s 5ms/step - loss: 3.8154e-06 - accuracy: 1.0000 - val_loss: 0.0221 - val_accuracy: 1.0000\n",
      "Epoch 50/50\n",
      "687/687 [==============================] - 4s 5ms/step - loss: 3.9945e-06 - accuracy: 1.0000 - val_loss: 0.0257 - val_accuracy: 1.0000\n"
     ]
    }
   ],
   "source": [
    "# Train model beautifully\n",
    "history = model.fit(\n",
    "    X_train_converted, \n",
    "    y_train_converted, \n",
    "    batch_size=64, \n",
    "    epochs=50,\n",
    "    verbose=1,\n",
    "    validation_split=0.1, \n",
    ")"
   ]
  },
  {
   "cell_type": "code",
   "execution_count": 43,
   "metadata": {
    "scrolled": true
   },
   "outputs": [
    {
     "data": {
      "image/png": "[encoded data removed]",
      "text/plain": [
       "<Figure size 432x288 with 1 Axes>"
      ]
     },
     "metadata": {
      "needs_background": "light"
     },
     "output_type": "display_data"
    },
    {
     "data": {
      "image/png": "[encoded data removed]",
      "text/plain": [
       "<Figure size 432x288 with 1 Axes>"
      ]
     },
     "metadata": {
      "needs_background": "light"
     },
     "output_type": "display_data"
    }
   ],
   "source": [
    "#Figures of accuracy and loss\n",
    "import matplotlib.pyplot as plt\n",
    "acc = history.history['accuracy']    \n",
    "val_acc = history.history['val_accuracy']    \n",
    "loss = history.history['loss']          \n",
    "val_loss = history.history['val_loss']  \n",
    "epochs = range(1,len(acc)+1)\n",
    "plt.plot(epochs,acc,'r',label='Trainning acc')     \n",
    "plt.plot(epochs,val_acc,'b',label='Vaildation acc') \n",
    "plt.legend()  \n",
    "\n",
    "file_path = fig_dir+\"acc.svg\"\n",
    "plt.savefig(file_path)\n",
    "\n",
    "plt.figure()  \n",
    "plt.plot(epochs,loss,'r',label='Trainning loss')\n",
    "plt.plot(epochs,val_loss,'b',label='Vaildation loss')\n",
    "plt.legend()  \n",
    "\n",
    "file_path = fig_dir+\"loss.svg\"\n",
    "plt.savefig(file_path)\n",
    "\n",
    "plt.show()    "
   ]
  },
  {
   "cell_type": "markdown",
   "metadata": {},
   "source": [
    "#### 4.2 Save model"
   ]
  },
  {
   "cell_type": "code",
   "execution_count": 44,
   "metadata": {},
   "outputs": [],
   "source": [
    "# Save model JSON and weights\n",
    "model_json = model.to_json()\n",
    "with open(model_dir+f\"{data_type}_model_topology.json\", \"w\") as json_file:\n",
    "    json_file.write(model_json)\n",
    "\n",
    "model.save_weights(model_dir+f\"{data_type}_model_weights.hdf5\")"
   ]
  },
  {
   "cell_type": "code",
   "execution_count": 45,
   "metadata": {},
   "outputs": [],
   "source": [
    "# Delete model after training\n",
    "K.clear_session()\n",
    "del model"
   ]
  },
  {
   "cell_type": "markdown",
   "metadata": {},
   "source": [
    "## 5. Test model"
   ]
  },
  {
   "cell_type": "markdown",
   "metadata": {},
   "source": [
    "#### 5.1 Prepare data"
   ]
  },
  {
   "cell_type": "code",
   "execution_count": 47,
   "metadata": {},
   "outputs": [
    {
     "data": {
      "text/html": [
       "<style>#sk-container-id-2 {color: black;background-color: white;}#sk-container-id-2 pre{padding: 0;}#sk-container-id-2 div.sk-toggleable {background-color: white;}#sk-container-id-2 label.sk-toggleable__label {cursor: pointer;display: block;width: 100%;margin-bottom: 0;padding: 0.3em;box-sizing: border-box;text-align: center;}#sk-container-id-2 label.sk-toggleable__label-arrow:before {content: \"▸\";float: left;margin-right: 0.25em;color: #696969;}#sk-container-id-2 label.sk-toggleable__label-arrow:hover:before {color: black;}#sk-container-id-2 div.sk-estimator:hover label.sk-toggleable__label-arrow:before {color: black;}#sk-container-id-2 div.sk-toggleable__content {max-height: 0;max-width: 0;overflow: hidden;text-align: left;background-color: #f0f8ff;}#sk-container-id-2 div.sk-toggleable__content pre {margin: 0.2em;color: black;border-radius: 0.25em;background-color: #f0f8ff;}#sk-container-id-2 input.sk-toggleable__control:checked~div.sk-toggleable__content {max-height: 200px;max-width: 100%;overflow: auto;}#sk-container-id-2 input.sk-toggleable__control:checked~label.sk-toggleable__label-arrow:before {content: \"▾\";}#sk-container-id-2 div.sk-estimator input.sk-toggleable__control:checked~label.sk-toggleable__label {background-color: #d4ebff;}#sk-container-id-2 div.sk-label input.sk-toggleable__control:checked~label.sk-toggleable__label {background-color: #d4ebff;}#sk-container-id-2 input.sk-hidden--visually {border: 0;clip: rect(1px 1px 1px 1px);clip: rect(1px, 1px, 1px, 1px);height: 1px;margin: -1px;overflow: hidden;padding: 0;position: absolute;width: 1px;}#sk-container-id-2 div.sk-estimator {font-family: monospace;background-color: #f0f8ff;border: 1px dotted black;border-radius: 0.25em;box-sizing: border-box;margin-bottom: 0.5em;}#sk-container-id-2 div.sk-estimator:hover {background-color: #d4ebff;}#sk-container-id-2 div.sk-parallel-item::after {content: \"\";width: 100%;border-bottom: 1px solid gray;flex-grow: 1;}#sk-container-id-2 div.sk-label:hover label.sk-toggleable__label {background-color: #d4ebff;}#sk-container-id-2 div.sk-serial::before {content: \"\";position: absolute;border-left: 1px solid gray;box-sizing: border-box;top: 0;bottom: 0;left: 50%;z-index: 0;}#sk-container-id-2 div.sk-serial {display: flex;flex-direction: column;align-items: center;background-color: white;padding-right: 0.2em;padding-left: 0.2em;position: relative;}#sk-container-id-2 div.sk-item {position: relative;z-index: 1;}#sk-container-id-2 div.sk-parallel {display: flex;align-items: stretch;justify-content: center;background-color: white;position: relative;}#sk-container-id-2 div.sk-item::before, #sk-container-id-2 div.sk-parallel-item::before {content: \"\";position: absolute;border-left: 1px solid gray;box-sizing: border-box;top: 0;bottom: 0;left: 50%;z-index: -1;}#sk-container-id-2 div.sk-parallel-item {display: flex;flex-direction: column;z-index: 1;position: relative;background-color: white;}#sk-container-id-2 div.sk-parallel-item:first-child::after {align-self: flex-end;width: 50%;}#sk-container-id-2 div.sk-parallel-item:last-child::after {align-self: flex-start;width: 50%;}#sk-container-id-2 div.sk-parallel-item:only-child::after {width: 0;}#sk-container-id-2 div.sk-dashed-wrapped {border: 1px dashed gray;margin: 0 0.4em 0.5em 0.4em;box-sizing: border-box;padding-bottom: 0.4em;background-color: white;}#sk-container-id-2 div.sk-label label {font-family: monospace;font-weight: bold;display: inline-block;line-height: 1.2em;}#sk-container-id-2 div.sk-label-container {text-align: center;}#sk-container-id-2 div.sk-container {/* jupyter's `normalize.less` sets `[hidden] { display: none; }` but bootstrap.min.css set `[hidden] { display: none !important; }` so we also need the `!important` here to be able to override the default hidden behavior on the sphinx rendered scikit-learn.org. See: https://github.com/scikit-learn/scikit-learn/issues/21755 */display: inline-block !important;position: relative;}#sk-container-id-2 div.sk-text-repr-fallback {display: none;}</style><div id=\"sk-container-id-2\" class=\"sk-top-container\"><div class=\"sk-text-repr-fallback\"><pre>LabelBinarizer()</pre><b>In a Jupyter environment, please rerun this cell to show the HTML representation or trust the notebook. <br />On GitHub, the HTML representation is unable to render, please try loading this page with nbviewer.org.</b></div><div class=\"sk-container\" hidden><div class=\"sk-item\"><div class=\"sk-estimator sk-toggleable\"><input class=\"sk-toggleable__control sk-hidden--visually\" id=\"sk-estimator-id-2\" type=\"checkbox\" checked><label for=\"sk-estimator-id-2\" class=\"sk-toggleable__label sk-toggleable__label-arrow\">LabelBinarizer</label><div class=\"sk-toggleable__content\"><pre>LabelBinarizer()</pre></div></div></div></div></div>"
      ],
      "text/plain": [
       "LabelBinarizer()"
      ]
     },
     "execution_count": 47,
     "metadata": {},
     "output_type": "execute_result"
    }
   ],
   "source": [
    "X_test = test.drop('tissue', axis=1)\n",
    "y_test = test['tissue']\n",
    "\n",
    "\n",
    "X_test = log_transform(X_test)\n",
    "X_test = convert_2d(X_test)\n",
    "\n",
    "lb = LabelBinarizer()\n",
    "lb.fit(y_test.values)"
   ]
  },
  {
   "cell_type": "markdown",
   "metadata": {},
   "source": [
    "#### 5.2 Load model"
   ]
  },
  {
   "cell_type": "code",
   "execution_count": 48,
   "metadata": {},
   "outputs": [],
   "source": [
    "# Load model beatifully\n",
    "model_json_path = model_dir+f\"{data_type}_model_topology.json\"\n",
    "trained_model = model_from_json(\n",
    "    open(model_json_path, \"r\").read()\n",
    ")\n",
    "\n",
    "# load weights into new model\n",
    "model_weights_path = model_dir+f\"{data_type}_model_weights.hdf5\"\n",
    "trained_model.load_weights(model_weights_path)"
   ]
  },
  {
   "cell_type": "markdown",
   "metadata": {},
   "source": [
    "#### 5.3 Run inference"
   ]
  },
  {
   "cell_type": "code",
   "execution_count": 49,
   "metadata": {},
   "outputs": [
    {
     "name": "stdout",
     "output_type": "stream",
     "text": [
      "macro-average F1 : 0.9102737780807133\n"
     ]
    }
   ],
   "source": [
    "# Run predictions and add everything to a giant DataFrame\n",
    "y_preds = trained_model.predict_classes(\n",
    "    X_test\n",
    ")\n",
    "\n",
    "num_preds = len(y_preds)\n",
    "\n",
    "classes = test['tissue'].unique()\n",
    "num_classes = len(classes)\n",
    "\n",
    "y_preds_onehot = np.zeros([num_preds, num_classes])\n",
    "y_preds_onehot[np.arange(num_preds), y_preds] = 1\n",
    "\n",
    "y_preds_labels = lb.inverse_transform(y_preds_onehot)\n",
    "\n",
    "print(\n",
    "    f\"macro-average F1 : {f1_score(y_test, y_preds_labels, average='macro')}\"\n",
    ")"
   ]
  },
  {
   "cell_type": "code",
   "execution_count": null,
   "metadata": {},
   "outputs": [],
   "source": []
  }
 ],
 "metadata": {
  "kernelspec": {
   "display_name": "Python 3 (ipykernel)",
   "language": "python",
   "name": "python3"
  },
  "language_info": {
   "codemirror_mode": {
    "name": "ipython",
    "version": 3
   },
   "file_extension": ".py",
   "mimetype": "text/x-python",
   "name": "python",
   "nbconvert_exporter": "python",
   "pygments_lexer": "ipython3",
   "version": "3.9.13"
  }
 },
 "nbformat": 4,
 "nbformat_minor": 4
}
